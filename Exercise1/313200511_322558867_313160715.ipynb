{
 "cells": [
  {
   "attachments": {},
   "cell_type": "markdown",
   "metadata": {},
   "source": [
    "# Homework 1: Information Retrieval\n",
    "## Instructions\n",
    "1. Students will form teams of three people each and submit a single homework for each team in the format - ID1_ID2_ID3.ipynb\n",
    "2. Groups of three!\n",
    "2. **Do not write your names anywhere.**\n",
    "3. For the code part: \n",
    "> **Write your code only in the mentioned sections. Do not change the code of other sections**. Do not use any imports unless we say so.\n",
    "4. For theoretical questions, if any - write your answer in the markdown cell dedicated to this task, in **English**.\n",
    "\n",
    "\n",
    "#### Deviation from the aforementioned  instructions will lead to reduced grade\n",
    "---\n",
    "\n",
    "\n",
    "## Clarifications\n",
    "1. The same score for the homework will be given to each member of the team.  \n",
    "2. The goal of this homework is to test your understanding of the concepts presented in the lectures. \\\n",
    "Anyhow, we provide here detailed explanations for the code part and if you have problems - ask.\n",
    "3. Questions can be sent to the forum, you are encouraged to ask questions but do so after you have been thinking about your question. \n",
    "4. The length of the empty gaps (where you are supposed to write your code) is a recommendation (the amount of space took us to write the solution) and writing longer code will not harm your grade. We do not expect you to use the programming tricks and hacks we used to make the code shorter.   \n",
    "Having said that, we do encourage you to write good code and keep that in mind - **extreme** cases may be downgraded.  \n",
    "We also encourage to use informative variable names - it is easier for us to check and for you to understand. \n",
    "\n",
    "Since it is the first time we provide this homework please notify us if there is a bug/something is unclear, typo's exc..\n",
    "\n",
    "5. We use Python 3.7 for programming.\n",
    "6. Make sure you have all the packages and functions used in the import section. Most of it is native to Anaconda Python distribution.\n",
    "\n",
    "### Have fun !"
   ]
  },
  {
   "attachments": {},
   "cell_type": "markdown",
   "metadata": {},
   "source": [
    "# Imports"
   ]
  },
  {
   "cell_type": "code",
   "execution_count": 1,
   "metadata": {},
   "outputs": [
    {
     "name": "stderr",
     "output_type": "stream",
     "text": [
      "[nltk_data] Downloading package stopwords to\n",
      "[nltk_data]     C:\\Users\\yumi4\\AppData\\Roaming\\nltk_data...\n",
      "[nltk_data]   Package stopwords is already up-to-date!\n",
      "[nltk_data] Downloading package punkt to\n",
      "[nltk_data]     C:\\Users\\yumi4\\AppData\\Roaming\\nltk_data...\n",
      "[nltk_data]   Package punkt is already up-to-date!\n"
     ]
    },
    {
     "data": {
      "text/plain": [
       "True"
      ]
     },
     "execution_count": 1,
     "metadata": {},
     "output_type": "execute_result"
    }
   ],
   "source": [
    "import numpy as np\n",
    "import pandas as pd\n",
    "from collections import Counter\n",
    "%matplotlib inline\n",
    "from tqdm import tqdm\n",
    "from typing import List,Dict\n",
    "from IPython.display import Image\n",
    "from IPython.core.display import HTML \n",
    "import time\n",
    "import os\n",
    "from nltk.tokenize import word_tokenize \n",
    "from nltk.stem.porter import PorterStemmer\n",
    "import nltk\n",
    "from string import punctuation, ascii_lowercase\n",
    "from nltk.corpus import stopwords\n",
    "\n",
    "nltk.download(\"stopwords\")\n",
    "nltk.download(\"punkt\")"
   ]
  },
  {
   "cell_type": "code",
   "execution_count": 2,
   "metadata": {},
   "outputs": [],
   "source": [
    "tic = time.perf_counter() #Start timer"
   ]
  },
  {
   "attachments": {},
   "cell_type": "markdown",
   "metadata": {},
   "source": [
    "# Config"
   ]
  },
  {
   "cell_type": "code",
   "execution_count": 3,
   "metadata": {},
   "outputs": [],
   "source": [
    "cwd=os.getcwd()\n",
    "INPUT_FILE_PATH = os.path.join(cwd, \"lyrics.csv\")\n",
    "BOW_PATH = os.path.join(cwd, \"bow.csv\")\n",
    "N_ROWS = 100000\n",
    "CHUNCK_SIZE = 5000\n",
    "tqdm_n_iterations = N_ROWS//CHUNCK_SIZE +1\n",
    "COLS = [0]"
   ]
  },
  {
   "attachments": {},
   "cell_type": "markdown",
   "metadata": {},
   "source": [
    "## 1.1 Bag of words /TfIdf model\n",
    "### Implement the following methods:\n",
    "\n",
    "* `preprocess_sentence`: \n",
    "    * Lower case the word\n",
    "    * Ignores it if it's in the stopwords list\n",
    "    * Removes characters which are not in the allowed symbols\n",
    "    * Stems it and appends it to the output sentence\n",
    "    * Discards words with length <= 1\n",
    "    \n",
    "    \n",
    "* `update_counts_and_probabilities`: \n",
    "\n",
    "    * Update self.unigram count (the amount of time each word is in the text)\n",
    "    * Update self.bigram count (two consecutive word occurances)\n",
    "    * Update inverted index: a dictionary with words as keys and the values is a dictionary - {'DocID' : word_count}   \n",
    "    \n",
    "* `compute_word_document_frequency`:\n",
    "\n",
    "   * For each word count the number of docs it appears in. For example , for the word 'apple' -\n",
    "$$\\sum_{i \\in docs} I(apple \\in doc_i), I := Indicator function$$\n",
    "\n",
    "\n",
    "* `update_inverted_index_with_tf_idf_and_compute_document_norm`:\n",
    "\n",
    "    * Update the inverted index (which currently hold word counts) with tf idf weighing. We will compute tf by dividing with the number of words in each document. \n",
    "    * As we want to calculate the document norm, incrementally update the document norm. pay attention that later we apply sqrt to it to finish the process.\n",
    "\n",
    "#### The result of this code is a bag of words model that already counts for TF-IDF weighing"
   ]
  },
  {
   "cell_type": "code",
   "execution_count": 4,
   "metadata": {},
   "outputs": [],
   "source": [
    "stemmer = PorterStemmer()\n",
    "stop_words = set(stopwords.words('english'))\n",
    "allowed_symbols = set(l for l in ascii_lowercase)"
   ]
  },
  {
   "cell_type": "code",
   "execution_count": 5,
   "metadata": {},
   "outputs": [],
   "source": [
    "def preprocess_sentence(sentence : str) -> List[str]:\n",
    "    '''\n",
    "    this function preprocesses a sentence by tokenizing it, removing stop words, stemming and removing punctuation and non-english words\n",
    "\n",
    "    Parameters\n",
    "    ----------\n",
    "    sentence : str\n",
    "        a string representing a sentence\n",
    "    \n",
    "    Returns\n",
    "    -------\n",
    "    List[str]\n",
    "        a list of words\n",
    "    '''\n",
    "    output_sentence = []\n",
    "    for word in word_tokenize(sentence):\n",
    "        ### YOUR CODE HERE\n",
    "        word = word.lower() # lower case the word\n",
    "        for char in word:\n",
    "            if char not in allowed_symbols:\n",
    "                word = word.replace(char, '') # remove punctuation, keep only allowed characters\n",
    "        if word not in stop_words and len(word) > 1: # remove stop_words\n",
    "            # stem the word\n",
    "            word = stemmer.stem(word)\n",
    "            output_sentence.append(word)\n",
    "        ### END YOUR CODE\n",
    "    return output_sentence\n",
    "    \n",
    "\n",
    "def get_data_chuncks() -> List[str]:\n",
    "    for i ,chunck in enumerate(pd.read_csv(INPUT_FILE_PATH, usecols = COLS, chunksize = CHUNCK_SIZE, nrows = N_ROWS)):\n",
    "        chunck = chunck.values.tolist()\n",
    "        yield [chunck[i][0] for i in range(len(chunck))] "
   ]
  },
  {
   "cell_type": "code",
   "execution_count": 6,
   "metadata": {},
   "outputs": [],
   "source": [
    "class TfIdf:\n",
    "    def __init__(self):\n",
    "        #unigram_count is a dictionary that maps a word to the number of times it appears in the corpus\n",
    "        self.unigram_count =  Counter()\n",
    "        #bigram_count is a dictionary that maps a bigram to the number of times it appears in the corpus\n",
    "        self.bigram_count = Counter()\n",
    "        #document_term_frequency is a dictionary that maps a document id to the number of words in the document\n",
    "        self.document_term_frequency = Counter()\n",
    "        #word_document_frequency is a dictionary that maps a word to the number of documents it appears in\n",
    "        self.word_document_frequency = {}\n",
    "        #inverted_index is a dictionary that maps a word to a dictionary that maps a document id to the tf-idf weight of the word in the document\n",
    "        self.inverted_index = {}\n",
    "        #doc_norms is a dictionary that maps a document id to the norm of the document\n",
    "        self.doc_norms = {}\n",
    "        #n_docs is the number of documents in the corpus\n",
    "        self.n_docs = -1\n",
    "        #sentence_preprocesser is a function that preprocesses a sentence\n",
    "        self.sentence_preprocesser = preprocess_sentence\n",
    "        #bow_path is the path to the bag of words\n",
    "        self.bow_path = BOW_PATH\n",
    "\n",
    "    def update_counts_and_probabilities(self, sentence:List[str], document_id:int) -> None:\n",
    "        '''\n",
    "        this function updates the unigram and bigram counts and the inverted index given a sentence and a document id\n",
    "\n",
    "        Parameters\n",
    "        ----------\n",
    "        sentence : List[str]\n",
    "            a list of words\n",
    "        document_id : int\n",
    "            the id of the document\n",
    "        \n",
    "        Returns\n",
    "        -------\n",
    "        None\n",
    "        '''\n",
    "        sentence_len = len(sentence)\n",
    "        self.document_term_frequency[document_id] = sentence_len\n",
    "        for i,word in enumerate(sentence):\n",
    "            ### YOUR CODE HERE\n",
    "            self.unigram_count.update([word])\n",
    "            if i > 0:\n",
    "                self.bigram_count.update([(sentence[i-1], sentence[i])])\n",
    "            self.inverted_index.setdefault(word,{})\n",
    "            self.inverted_index[word].setdefault(document_id,0)\n",
    "            self.inverted_index[word][document_id] = self.unigram_count[word]\n",
    "            ### END YOUR CODE\n",
    "        \n",
    "        \n",
    "    def fit(self) -> None:\n",
    "        for chunck in tqdm(get_data_chuncks(), total = tqdm_n_iterations):\n",
    "            for sentence in chunck: #sentence is a song (string)\n",
    "                self.n_docs += 1 \n",
    "                if not isinstance(sentence, str):\n",
    "                    continue\n",
    "                sentence = self.sentence_preprocesser(sentence)\n",
    "                if sentence:\n",
    "                    self.update_counts_and_probabilities(sentence,self.n_docs)\n",
    "        self.save_bow() # bow is 'bag of words'\n",
    "        self.compute_word_document_frequency()\n",
    "        self.update_inverted_index_with_tf_idf_and_compute_document_norm()\n",
    "             \n",
    "    def compute_word_document_frequency(self):\n",
    "        '''\n",
    "        this function computes the word document frequency for each word in the inverted index. e.g. if a word appears in 10 documents, the word document frequency is 10.\n",
    "        '''\n",
    "        print('compute_word_document_frequency')\n",
    "        for word in self.inverted_index.keys():\n",
    "            ### YOUR CODE HERE\n",
    "            self.word_document_frequency[word] = len(self.inverted_index[word])\n",
    "            ### END YOUR CODE\n",
    "            \n",
    "    def update_inverted_index_with_tf_idf_and_compute_document_norm(self):\n",
    "        '''\n",
    "        this function updates the inverted index with tf-idf weighting and computes the document norm for each document\n",
    "        '''\n",
    "        print('update_inverted_index_with_tf_idf_and_compute_document_norm')\n",
    "        ### YOUR CODE HERE\n",
    "        for word in self.inverted_index.keys():\n",
    "            for document_id in self.inverted_index[word].keys():\n",
    "                # Calculate tf:\n",
    "                tf = self.inverted_index[word][document_id] / self.document_term_frequency[document_id]\n",
    "                # Calculate idf:\n",
    "                idf = np.log10(self.n_docs / (self.document_term_frequency[document_id]))\n",
    "                self.inverted_index[word][document_id] = tf * idf\n",
    "                \n",
    "                self.doc_norms.setdefault(document_id,0)\n",
    "                self.doc_norms[document_id] += self.inverted_index[word][document_id] ** 2\n",
    "        ### END YOUR CODE\n",
    "        for doc in self.doc_norms.keys():\n",
    "            self.doc_norms[doc] = np.sqrt(self.doc_norms[doc]) \n",
    "            \n",
    "    def save_bow(self):\n",
    "        pd.DataFrame([self.inverted_index]).T.to_csv(self.bow_path)"
   ]
  },
  {
   "cell_type": "code",
   "execution_count": 7,
   "metadata": {},
   "outputs": [
    {
     "name": "stderr",
     "output_type": "stream",
     "text": [
      " 95%|█████████▌| 20/21 [07:45<00:23, 23.30s/it]\n"
     ]
    },
    {
     "name": "stdout",
     "output_type": "stream",
     "text": [
      "compute_word_document_frequency\n",
      "update_inverted_index_with_tf_idf_and_compute_document_norm\n"
     ]
    }
   ],
   "source": [
    "tf_idf = TfIdf()\n",
    "tf_idf.fit()"
   ]
  },
  {
   "attachments": {},
   "cell_type": "markdown",
   "metadata": {},
   "source": [
    "## 1.11 Bag of words model:\n",
    "\n",
    "1. What is the computational complexity of this model, as a function of the number of docs in the corpus?\n",
    "2. How can we make this code better in terms running time (parallelization or other topics you find)?"
   ]
  },
  {
   "attachments": {},
   "cell_type": "markdown",
   "metadata": {},
   "source": [
    "### YOUR SOLUTION HERE\n",
    "\n",
    "Signs:\n",
    "D – The number of documents\n",
    "; V – The number of unique words\n",
    "; m – The average number of words in a document\n",
    "\n",
    "a. Iterating over all documents - O(D)\n",
    "\n",
    "a1. For each document: pre-processing costs O(m) [preprocessing is performed for an average of m words in each document, when pre-processing for one word costs O(1)].\n",
    "\n",
    "a2. For each document: we update_counts_and_probabilities which iterates over m words in a document when each update costs O(1) --> overall the update costs O(m).\n",
    "\n",
    "Therefore the total complexity of a section is O(mD).\n",
    "\n",
    "b. Saving bag of words costs O(1).\n",
    "\n",
    "c. Computing word frequency costs O(V) since requires going over V words (all unique words).\n",
    "\n",
    "d. Updating inverted index costs O(VD) - we go over all unique words (V) for each document (D), with O(1) calculation for each.\n",
    " \n",
    "All together, the complexity of the model is O(mD) + O(V) + O(VD) = O(VD), and that is because V>>m.\n",
    "This complexity is as we learned in the class.\n",
    "\n",
    "------------------------------------------------------------------------------------------------------------------------\n",
    "\n",
    "2.There are several ways we can make this code better in terms of running time:\n",
    "Parallelization: We can parallelize the code using multiprocessing or multithreading. For example,\n",
    "We can split for x chunks, and work in parallel for every chunk, and then merge the results. For example, we can heuristicaly choose to pull [top K]/[num of chunks] from each chunk instead of [top K] from all together.\n",
    "\n",
    "Optimizing the code: We can optimize the code by using more efficient data structures and algorithms. For example, we can use a hash table or a Trie data structure to store the inverted index instead of a dictionary. We can also use a sparse matrix representation for the term-document matrix to save memory and speed up computation. Finally, we can optimize the stemmer and tokenizer to make them faster and more efficient.\n",
    "\n",
    "\n",
    "\n",
    "\n",
    "\n",
    "### END YOUR SOLUTION"
   ]
  },
  {
   "attachments": {},
   "cell_type": "markdown",
   "metadata": {},
   "source": [
    "## 1.2 DocumentRetriever\n",
    "Not this retriever &#8595;"
   ]
  },
  {
   "attachments": {},
   "cell_type": "markdown",
   "metadata": {},
   "source": [
    "\n",
    "![dsafdsafsdafdsf](https://cdn3-www.dogtime.com/assets/uploads/2019/10/golden-cocker-retriever-mixed-dog-breed-pictures-cover-1.jpg)"
   ]
  },
  {
   "attachments": {},
   "cell_type": "markdown",
   "metadata": {},
   "source": [
    "### Implement the following methods:\n",
    "\n",
    "`reduce_query_to_counts`: given a list of words returns a counter object with words as keys and counts as values.\n",
    "\n",
    "`rank`: given a query and relevant documents calculate the similarity (cosine or inner product simialrity) between each document and the query.   \n",
    "Make sure to transform the query word counts to tf idf as well. \n",
    "\n",
    "`sort_and_retrieve_k_best`: returns the top k documents."
   ]
  },
  {
   "cell_type": "code",
   "execution_count": 8,
   "metadata": {},
   "outputs": [],
   "source": [
    "class DocumentRetriever:\n",
    "    def __init__(self, tf_idf):\n",
    "        #sentence_preprocesser is a function that preprocesses a sentence\n",
    "        self.sentence_preprocesser = preprocess_sentence  \n",
    "        #vocab is a set of all the words in the corpus\n",
    "        self.vocab = set(tf_idf.unigram_count.keys())\n",
    "        #n_docs is the number of documents in the corpus\n",
    "        self.n_docs = tf_idf.n_docs\n",
    "        #inverted_index is a dictionary that maps a word to a dictionary that maps a document id to the tf-idf weight of the word in the document\n",
    "        self.inverted_index = tf_idf.inverted_index\n",
    "        #word_document_frequency is a dictionary that maps a word to the number of documents it appears in\n",
    "        self.word_document_frequency = tf_idf.word_document_frequency\n",
    "        #doc_norms is a dictionary that maps a document id to the norm of the document\n",
    "        self.doc_norms = tf_idf.doc_norms\n",
    "        \n",
    "    def rank(self, query:Dict[str,int], documents:Dict[str,Counter], metric:str) -> Dict[str, float]:\n",
    "        '''\n",
    "        this function ranks the documents according to the query and the chosen similarity metric\n",
    "\n",
    "        Parameters\n",
    "        ----------\n",
    "        query : Dict[str,int]\n",
    "            a dictionary of words and their counts in the query\n",
    "        documents : Dict[str,Counter]\n",
    "            a dictionary of documents that contain the query words and their tf-idf weights\n",
    "        metric : str\n",
    "            the similarity metric to use. can be 'cosine' or 'dot'\n",
    "        \n",
    "        Returns\n",
    "        -------\n",
    "        Dict[str, float]\n",
    "            a dictionary of documents and their similarity to the query\n",
    "        '''\n",
    "        result = {} # key: DocID , value : float , simmilarity to query\n",
    "        query_len = np.sum(np.array(list(query.values())))\n",
    "        ### YOUR CODE HERE\n",
    "        query_norm = 0\n",
    "        for qord in query:\n",
    "            # for each word sum the counter of word **2\n",
    "            query_norm += query[qord]**2\n",
    "            sim=0\n",
    "            for doc in documents[qord]:\n",
    "                # caculate for each the inner product and add to the similarity ranking\n",
    "                sim += query[qord]*documents[qord][doc]\n",
    "                if doc not in result:\n",
    "                    result[doc] = sim\n",
    "                else:\n",
    "                    result[doc] += sim\n",
    "        query_norm = np.sqrt(query_norm)\n",
    "        ### END YOUR CODE\n",
    "        if metric == 'cosine':\n",
    "            ### YOUR CODE HERE\n",
    "             for doc in result.keys():\n",
    "                result[doc] = result[doc]/(self.doc_norms[doc]*query_norm)\n",
    "                \n",
    "            ### END YOUR CODE\n",
    "        return result\n",
    "        \n",
    "    \n",
    "    def sort_and_retrieve_k_best(self, scores:Dict[str, float], k:int)-> List[str]:\n",
    "        '''\n",
    "        this function sorts the documents according to their similarity to the query and returns the k best documents\n",
    "        '''\n",
    "        ### YOUR CODE HERE\n",
    "        return sorted(scores, key=scores.get, reverse=True)[:k]\n",
    "        ### END YOUR CODE\n",
    "\n",
    "    \n",
    "    def reduce_query_to_counts(self, query:List)->  Counter:\n",
    "        '''\n",
    "        this function reduces the query to a dictionary of words and their counts\n",
    "        '''\n",
    "        ### YOUR CODE HERE\n",
    "        return Counter(query)\n",
    "        ### END YOUR CODE\n",
    "        \n",
    "        \n",
    "    def get_top_k_documents(self, query:str, metric:str , k=5) -> List[str]:\n",
    "        query = self.sentence_preprocesser(query)\n",
    "        query = [word for word in query if word in self.vocab] # filter nan \n",
    "        query_bow = self.reduce_query_to_counts(query)\n",
    "        relavant_documents = {word : self.inverted_index.get(word) for word in query}\n",
    "        ducuments_with_similarity = self.rank(query_bow,relavant_documents, metric)\n",
    "        return self.sort_and_retrieve_k_best(ducuments_with_similarity,k)\n",
    "        \n",
    "dr = DocumentRetriever(tf_idf)"
   ]
  },
  {
   "cell_type": "code",
   "execution_count": 9,
   "metadata": {},
   "outputs": [
    {
     "name": "stderr",
     "output_type": "stream",
     "text": [
      "C:\\Users\\yumi4\\AppData\\Local\\Packages\\PythonSoftwareFoundation.Python.3.10_qbz5n2kfra8p0\\LocalCache\\local-packages\\Python310\\site-packages\\IPython\\core\\display.py:431: UserWarning: Consider using IPython.display.IFrame instead\n",
      "  warnings.warn(\"Consider using IPython.display.IFrame instead\")\n"
     ]
    },
    {
     "data": {
      "text/html": [
       "<iframe width=\"560\" height=\"315\" src=\"https://www.youtube.com/embed/KT6ZtUbVw1M?rel=0&amp;controls=0&amp;showinfo=0\" frameborder=\"0\" allowfullscreen></iframe>"
      ],
      "text/plain": [
       "<IPython.core.display.HTML object>"
      ]
     },
     "execution_count": 9,
     "metadata": {},
     "output_type": "execute_result"
    }
   ],
   "source": [
    "from IPython.display import HTML\n",
    "query = \"Better stop dreaming of the quiet life, 'cause it's the one we'll never know And quit running for that runaway bus 'cause those rosy days are few And stop apologizing for the things you've never done 'Cause time is short and life is cruel but it's up to us to change This town called malice\"\n",
    "HTML('<iframe width=\"560\" height=\"315\" src=\"https://www.youtube.com/embed/KT6ZtUbVw1M?rel=0&amp;controls=0&amp;showinfo=0\" frameborder=\"0\" allowfullscreen></iframe>')"
   ]
  },
  {
   "cell_type": "code",
   "execution_count": 10,
   "metadata": {},
   "outputs": [
    {
     "name": "stdout",
     "output_type": "stream",
     "text": [
      "[74518, 74537, 67610, 67748, 66206]\n",
      "[99931, 99963, 99661, 99977, 99990]\n"
     ]
    }
   ],
   "source": [
    "cosine_top_k = dr.get_top_k_documents(query, 'cosine')\n",
    "print(cosine_top_k)\n",
    "inner_product_top_k= dr.get_top_k_documents(query, 'inner_product')\n",
    "print(inner_product_top_k)"
   ]
  },
  {
   "cell_type": "code",
   "execution_count": 11,
   "metadata": {},
   "outputs": [
    {
     "name": "stdout",
     "output_type": "stream",
     "text": [
      "##################################################\n",
      "song #0 \n",
      "[INTRO]. My mama took me to Sam Goody's. I wanted to buy a 50 Cent CD. I took that shit home. That shit was wack like a muthafucka. Don't fuck with Game. I like 50 Cent. He reminds me Spongebob. And Tony Yayo is Blues Clues. And Lloyd Banks is Dora the Explorer. They're my friends. Psyche. I went down one of them Bodaga shits right there in Harlem. Got me a bootleg Lloyd Banks and Young Buck CD. Took that shit home, put it in my boom box. Thought I was bout to be on some radio Raheim shit. Man that shit sound like some Vanessa Williams '88. I mean Olivia cute but they say that bitch a man. So this Black Wallstreet for life now. GGG-UNOT!. [GAME]. 300 Bars and Runnin. Just loan me your ears for 15 minutes. Walk with me. Here the breakdown, pass the doja, .45 in the holster. Hollow tips'll fold 'em, them *****z they toy soldiers. Oh, that boy colder than Hova unless he sober. Like I'm the president, but this ain't the takeover. Now, there's the speaker, bring your ears a little closer. Before you call this a diss, and you make Hova pissed. Why would I wanna do that? When I'm just the new cat. That was taught if a ***** take shots to shoot back. Defending his yard, yeah standing his ground. I'm saying if you gonna retire, then hand me the crown. Nah, let Bleek do it, then throw him a concert in Madison square. Watch everybody sleep through it. We can go bar for bar, I'll let the lines speak to 'em. What they say? Bleek is over let Chris and Neef do it. They say the wrong thing, I'ma smack 'em silly. What you thought? Them was the only *****z that rapped in Philly?. See them *****z with the soonies leave you wrapped in Philly. Then dash in groups like Beanie Mac in Philly. ??? said Curtis Jack in Philly. Make a U-turn, I gotta go back to Philly. I forgot my cheese stake, that's what I told the cops. So they wouldn't get the dogs start searching for the glock. And I can't forget, B.I.G. got murdered by the cops. Even I was Ready To Die, when I heard that he was shot. What's beef? Beef is when I murk you on the spot. Labels signing many things, still searching for they Pac. I put purple on the block. So I don't feel threatened when Ludacris say he coming for the #1 spot. Ask 50, it get lonely on top. You can hate me or love me, but now the cops the only homies he got. When it's beef we eat, we win, but we ain't lonely we pop. You sell records but a GGG-u not!. Acting big on the radio, to me you not. You can ask Mr. CCC who hot. Tony Yayo I bet 10 G's you flop. Run up on that new 300 C you got. Stop hoping I fall, hope the bleeding stop. And I hope you black out before you see the cops. I ain't hot top for colors, I'm from Cedar Block. So I got my hot tops that make your breathing stop. I'm a gangsta slash rapper, check your CD shop. I'm like Elvis in there, they can't believe you dropped. Now I'm moving on up to George and Weezy's spot. I picked up where my homeboy Eazy stopped. I saw the west coast, put the shit on my back. Sprayed Aftermath on it, then loosened the strap. It get hot in here, let Lucifer rap. Bring hell to *****z when Dre producing a track. Take it to the streets, put the duece duece to your hat. Then call up the pigs, tell them the rooster's back. Call Jadakiss, tell him that duke is back. I'm still by your side, no matter who comes strapped. Fuck Lloyd Banks, it ain't about who can rap. It's about when the ??? clap, is rufus back. I see what you thinkin, you want me to die, is that so?. Now you left leaning back, thanks to Fat Joe. We got reservations in heaven, you ready? Let's go. Drop them off, then the sound like Esko. I'm a say ??? if me and Dre talk. All Nas said back was he had a ???. Now that's the eulogy, beef is kinda foolish see. *****z running their mouth about what the fuck they gon' do to me. But quit the yapping before I proceed to clapping. And you gon' see the captain with plans of getting me captured. Even behind bars, I'm still gon' shine. I'm 10 years younger than Yayo, I get out, I'm fine. Then I go right back, ***** I pop mines. How you gon' drop Olivia, you only drop dimes. I knew you changed, when you started sleeping in that vest dog. I don't need 50 Cent, my *****z make collect calls. 1-800-split a faggot ***** wig. He got G-Unit wings, throw them off the Queens Bridge. Now your career is over, career is over. We in QB, banging CNN in the rover. T-O-N-Y, that's the phony NORE. You ain't the talk of New York, your sixteens is boring. Take that shit off ???, go back to PC. And tell 50 Cent you want a copy of Beef 3. I'm airing their ass out on DVD. You wanna rhyme like Lloyd Banks repeat after me. I'm a G-Unit toy soldier. On Sesame street doing voice overs. Bitch ass ***** need a rhyme dictionary, to rehearse his lines. Sound like Oscar the Grouch, with them nursery rhymes. We was in the studio, when I first got signed. He got stuck, he called 50 tryna borrow some lines. That's the wrong *****, when you need help with your rhymes. All he gon' tell you is say G-Unit one more time. Got mad cuz I ain't wanna make your beef mine. You got lucky with Ja, why you aint go at Shyne?. He freestyled from the pen, that's just the fact. Said he'd put you with your mom, and you ain't fucked with that. Then you lied about your pops, he ain't never bust no cap. Like Father, Like Son, go ask Busta that. I knew from the beginning I couldn't trust those cats. I'd kill 'em all, if I could bring Justo back. The underground is mine, I treat it like home. It's the reason *****z saying my name like Mike Jones. The underground is mine, I treat it like home. It's the reason *****z saying my name like Mike Jones. The underground is mine, I treat it like home. It's the reason *****z saying my name like Mike Jones. I said. The underground is mine, I treat it like home. It's the reason *****z saying my name like Mike Jones. And I'm far from Houston but you can chop it and screw it. Do whatever to it, but it in the store the shit moving. Gave 'em a hundred bars, they ain't think I could do it. Came with two hundred, ***** this is more than music. Even Dre knew it, that boy hot like summer. Both ??? in the dirt, 300 Bars and Runnin. And I beef with any *****, say my name muthafuck I'm gunnin'. You can put it on skee if you want it. I'll air you out on Drama King, Mike, or Clue. And watch them shits sell out like a Air Jordon shoe. I told Funk Flex when I catch the ***** Whoo Kid. We gon' see if he know how to DJ with bruised ribs. Don't hit me on the sidekick asking what you did. Get a gun or ask 50's police to use his. Cuz Bloods gonna get ya. Bloods, Bloods gonna get ya for that Shadyville chain. That 380 spill brains, when I pop shots. Outside NY, in front of hip-hop cops. Or broad day in L.A., I'ma tell Em and Dre. This ***** bootlegging my music, ain't nothing for him to say. Took me off my own songs, then put it on his tapes. So I'ma take him out his house, put the beam on his face. Drop him off at Terror Squad, let him scream for the jakes. Cuz when you fucking with Jayceon, you can bleed in the lake. For caking off *****z on them CD's and tapes. Ask them to scratch a record, you will see he fake. If 50 was Puffy, you'd run and go get him a cheese cake. Take the DJ off your name, Mr. Instant replay. Not the instant replay. I mean the machine that G-Unit use every time 50 on stage singing like. Bitches only for your shit just a lil bit. *****z only for your shit just a lil bit. On my album 50 helped me just a lil bit. Only on two songs, now back to some killer shit. My clips bananas, I kill a gorilla quick. Beating on your chest, I see to your death, yep. Tell Ecko to make him a suit. Tell Reebock to make him some boots. Get him a head band, to cover the holes in his head. He a dead man for thinking he can walk through muddy waters like Redman. Banks blacked out and let the gun blam without a M-E-T-H-O-D Man. So the lieutenant gotta ask for his strings. Take my advice, never wear air max for the ???. Unless you one of the Bloods, or a latin king. Cuz if your left with the Aryans your ass will sting. And your cell mate is a 25 to lifer. They will stab you then ??? then fuck you on Rikers. And Life Goes On. Now back to the coward of the hour who lied and said he write my songs. He told Vibe Dre was gonna leave me on the shelf. So he gave me all his hits, you should've kept them for yourself. ***** stop acting tough before I stand over you. Show you how The Documentary live on top of The Massacre. Make a move I'm blasting your ass to the last one. Ten shots from the Mack empty the rest in the passenger. Fase yelling thats enough, let the coroner bag him up. Throw in Makaveli and lift the doors on the Maganum. Gun smoking, Fase think I'm locin' backing up. Reverse the '05 hurse on 41st and traffic, what. Hip-Hop cops on my left, but I pass 'em up. The Dodge got a hemmy in it, Game got a Remy in 'em. In and out of lanes like a New York cab. I'm Mr. Ol' King, that New York cab. Who's this fake *****, on pictures with the Jake *****?. Got his crew starving cuz he aint the whole cake, *****. He ain't Nas, ain't B.I.G., ain't Jigga. If he ain't Cube or Pac then who you got?. We getting tired of you talkin about who you shot. I'll use another six bars to tell you who you not. You ain't 50 Cent, he went out like a gangsta. You went out with Vivica, three months after wanksta. Get Rich or Die Tryin, we thought you was hot. Now the same ***** wanna take us to the Candy Shop. C'mon man, what happened to the thug?. Now you could find in the club, him and Lloyd Banks hugging. ***** got mad when The Game start buzzing. So fuck making friends now I'm into throwing slugs. Olivia talking about we a family, Game had to go. ***** I'll smack that ho like I'm Jackie-O. Cuz I don't wanna be cool, I don't wanna be you. I don't wanna shake hands, or wear your G-Unit shoes. Don't want you on my hooks, don't wanna be in your group. Just wanna sit here and wait. To be gone, so I can head back to the block. Fresh white Nike airs and the matching socks fitted. Pull the brim low, if they don't get it. Bentley Coup on gold daytons, I was the first one with it. Four times platinum, I done been there and did it. Came in the game and shitted, then wiped my ass with it. They say the Lord givth, if Lord take it away. So I build a house on top of Hip-Hop, I'll wait for the day. *****z hating on me, they don't want Jayceon to play. And the DA waiting on Jayceon to make a mistake. So they can put me in the SWAT car and lock me away. Give me a odd job in the pen for minimum pay. Let me out so I can drive down criminal way. Pushing the rock, nah this ain't no subliminal Jay. The summer too hot, and I want the winter to stay. Cuz I'm a cold ***** when I put the pen to the page. Similar to them shells going into my gauge. I hand 'em off to Dre, he turned them into granades. And Just Blaze, cuz the boy got game. Like I close my eyes, and woke up in a Roc chain. Now back to reality, my gun and my vest. And if diamonds are forever, then I'm Kanye West. Take a look at my chest, a hundred thou wet jacob. Whole crew got chains, a hundred thou can't break 'em. And the flow is hot like that wit Satan. And the only thing I got spinning is Daytons. The hotter I get the more willing to snake 'em. So soon as the beat drop, watch where I take 'em. Compton Swap meet, to get me some All-Stars. When Game in the house, they call ???. Cuz they heard about what went on in D.C.. Heard about Hot 97, my beef with 50. Now tell me do he got a conscience?. I think not, cuz if he did I wouldn't be involved in this nonsense. Wouldn't be in Harlem, wouldn't be at this conference. I'd rather be pushing rock, like ???. 50 whispered in my ear, like we still bonding. We ain't friends, I'm just acting like Charles Bronson. Middle finger in the air, one hand on my Johnson. Hip-Hop police on me like I'm the convict. What happened to the old school? I thought it was rhyming. Doug E. Fresh and Dana Day on the corner like Common. Now that ain't common, it's more like Top Ramen. The flow is news, I throw it up like vomit. And I still shine like diamonds. They kicked me out of G-Unit and I rebounded like Rodman. It's still Aftermath, two feet in the pentition. I be mad, I ain't, I'm supposed to stop I can't because. I'm in the hood politican, Impala ???. And I keep a black .45 on the side of my prada denim. Chip on my shoulder like I'm fresh outta prison. Dollar vision, blow a hundred thou like my wallet missing. Then re-up like kid before the d-cup. Continuously getting money with my feet up. Chasing the throne, here my black Air Force. I said fuck Benzino and got the cover of The Source. Feel me? If not then I guess you gotta kill me. But you ain't gon' do that so muthafucka move back. While I do B.I.G. and 'Pac impersonations on two tracks. When I wake the dead, everybody remove hats. We miss ya'll, can I get a hand clap?. Now back to rap, why I gotta stay strapped?. On that murder T-I-P, kill you ASAP. They won't know which hole to patch up, when the ??? clap. I tried to spare you Young Buck, now it's time for payback. It go, how you from Cashville but you ain't got no cash *****?. Say my name now that's your fucking ass *****. Kept your mouth shut and I gave you a pass *****. Now I gotta lay you down like the last *****. Buck, buck, buck from my AK-47. This ***** playing with his life, I might have to put him in heaven. Tryna play the game, talking shit up on the stereo. Prepare for burial, it's when I'm reincarnating Harry-O. And you don't want that David cuz you love your life. Get my Vibe, when it's war he pull out butter knifes. Muthafucka I'ma show you who the gangsta. All you do is Murder Inc., now who the wanksta?. When Suge had you, you were stranded on Tha Row. Juve left you for dead and went back to the NO. 50 heard you on the tour bus and felt your little flow. Then he made you temporary replacement for Yayo. You a bitch, and that's hard to swallow. And you got robbed for your spinning G-Unit chain in Chicago. I call my ***** Jojo to get it back. He had the shit in his hands, and you ain't had the ten stacks. Picture that, I thought we was G-Unit. Then you ran and told 50 that I did that shit. Ask C-Murder, the boy ain't hard to find. I told Monica when I catch him The Boy is Mine. Take one shot of Brandy and pop. Watch his panties drop, when I run inside the Candy Shop. Fuck you, 50, Banks, Yayo, and the cops. And Olivia, I mean for a man she hot. Now I'm running out of breath, like I just beat boxed. Got 20 bars to go, lay it down like sheet rock. Don't worry about the flow, the boy know he hot. Hurricanes in store November, ***** fuck Reebocks. I'm fly like a Hummingbird on a tree top. The new Hov, the new B.I.G., the new 'Pac, I need three spots. 280 in, ain't no getting me back. I'm yelling fuck the world, on my victory lap. Remember first it was Buddens, then it was Bleek. Now it's whoever muthafucka, yeah, who want beef?. Now whenever muthafucka, who wanna see me?. In the coffin, body exhausted, resting in peace. You don't want war *****, you want peace. So give 'em the peace, capiche (sp?). Let 'em rest in peace. From west to east the flow is outdatable, irreplacable. Lyrical homicide, hell is hot, I'm boxing with Satan. And I slipped 'em the ace, you cannot replace 'em. If Eazy ever decide to return, I remain Jayceon. A king in the making, and the throne is for the taking. So I climb the mountain top and put my stake in. Got the weight of the world on my shoulder. Not a ***** nor a hoodrat bitch can stop me from taking it over. This is crack music, go get the baking soda. 300 Bars and Runnin, ***** the wait is over. I'm gone gone gone gone gone gone gone gone gone gone gone. *Enviado por \"Sekef\" \n",
      "##################################################\n",
      "##################################################\n",
      "song #1 \n",
      "[INTRO]. My mama took me to Sam Goody's. I wanted to buy a 50 Cent CD. I took that shit home. That shit was wack like a muthafucka. Don't fuck with Game. I like 50 Cent. He reminds me Spongebob. And Tony Yayo is Blues Clues. And Lloyd Banks is Dora the Explorer. They're my friends. Psyche. I went down one of them Bodaga shits right there in Harlem. Got me a bootleg Lloyd Banks and Young Buck CD. Took that shit home, put it in my boom box. Thought I was bout to be on some radio Raheim shit. Man that shit sound like some Vanessa Williams '88. I mean Olivia cute but they say that bitch a man. So this Black Wallstreet for life now. GGG-UNOT!. [GAME]. 300 Bars and Runnin. Just loan me your ears for 15 minutes. Walk with me. Here the breakdown, pass the doja, .45 in the holster. Hollow tips'll fold 'em, them *****z they toy soldiers. Oh, that boy colder than Hova unless he sober. Like I'm the president, but this ain't the takeover. Now, there's the speaker, bring your ears a little closer. Before you call this a diss, and you make Hova pissed. Why would I wanna do that? When I'm just the new cat. That was taught if a ***** take shots to shoot back. Defending his yard, yeah standing his ground. I'm saying if you gonna retire, then hand me the crown. Nah, let Bleek do it, then throw him a concert in Madison square. Watch everybody sleep through it. We can go bar for bar, I'll let the lines speak to 'em. What they say? Bleek is over let Chris and Neef do it. They say the wrong thing, I'ma smack 'em silly. What you thought? Them was the only *****z that rapped in Philly?. See them *****z with the soonies leave you wrapped in Philly. Then dash in groups like Beanie Mac in Philly. ??? said Curtis Jack in Philly. Make a U-turn, I gotta go back to Philly. I forgot my cheese stake, that's what I told the cops. So they wouldn't get the dogs start searching for the glock. And I can't forget, B.I.G. got murdered by the cops. Even I was Ready To Die, when I heard that he was shot. What's beef? Beef is when I murk you on the spot. Labels signing many things, still searching for they Pac. I put purple on the block. So I don't feel threatened when Ludacris say he coming for the #1 spot. Ask 50, it get lonely on top. You can hate me or love me, but now the cops the only homies he got. When it's beef we eat, we win, but we ain't lonely we pop. You sell records but a GGG-u not!. Acting big on the radio, to me you not. You can ask Mr. CCC who hot. Tony Yayo I bet 10 G's you flop. Run up on that new 300 C you got. Stop hoping I fall, hope the bleeding stop. And I hope you black out before you see the cops. I ain't hot top for colors, I'm from Cedar Block. So I got my hot tops that make your breathing stop. I'm a gangsta slash rapper, check your CD shop. I'm like Elvis in there, they can't believe you dropped. Now I'm moving on up to George and Weezy's spot. I picked up where my homeboy Eazy stopped. I saw the west coast, put the shit on my back. Sprayed Aftermath on it, then loosened the strap. It get hot in here, let Lucifer rap. Bring hell to *****z when Dre producing a track. Take it to the streets, put the duece duece to your hat. Then call up the pigs, tell them the rooster's back. Call Jadakiss, tell him that duke is back. I'm still by your side, no matter who comes strapped. Fuck Lloyd Banks, it ain't about who can rap. It's about when the ??? clap, is rufus back. I see what you thinkin, you want me to die, is that so?. Now you left leaning back, thanks to Fat Joe. We got reservations in heaven, you ready? Let's go. Drop them off, then the sound like Esko. I'm a say ??? if me and Dre talk. All Nas said back was he had a ???. Now that's the eulogy, beef is kinda foolish see. *****z running their mouth about what the fuck they gon' do to me. But quit the yapping before I proceed to clapping. And you gon' see the captain with plans of getting me captured. Even behind bars, I'm still gon' shine. I'm 10 years younger than Yayo, I get out, I'm fine. Then I go right back, ***** I pop mines. How you gon' drop Olivia, you only drop dimes. I knew you changed, when you started sleeping in that vest dog. I don't need 50 Cent, my *****z make collect calls. 1-800-split a faggot ***** wig. He got G-Unit wings, throw them off the Queens Bridge. Now your career is over, career is over. We in QB, banging CNN in the rover. T-O-N-Y, that's the phony NORE. You ain't the talk of New York, your sixteens is boring. Take that shit off ???, go back to PC. And tell 50 Cent you want a copy of Beef 3. I'm airing their ass out on DVD. You wanna rhyme like Lloyd Banks repeat after me. I'm a G-Unit toy soldier. On Sesame street doing voice overs. Bitch ass ***** need a rhyme dictionary, to rehearse his lines. Sound like Oscar the Grouch, with them nursery rhymes. We was in the studio, when I first got signed. He got stuck, he called 50 tryna borrow some lines. That's the wrong *****, when you need help with your rhymes. All he gon' tell you is say G-Unit one more time. Got mad cuz I ain't wanna make your beef mine. You got lucky with Ja, why you aint go at Shyne?. He freestyled from the pen, that's just the fact. Said he'd put you with your mom, and you ain't fucked with that. Then you lied about your pops, he ain't never bust no cap. Like Father, Like Son, go ask Busta that. I knew from the beginning I couldn't trust those cats. I'd kill 'em all, if I could bring Justo back. The underground is mine, I treat it like home. It's the reason *****z saying my name like Mike Jones. The underground is mine, I treat it like home. It's the reason *****z saying my name like Mike Jones. The underground is mine, I treat it like home. It's the reason *****z saying my name like Mike Jones. I said. The underground is mine, I treat it like home. It's the reason *****z saying my name like Mike Jones. And I'm far from Houston but you can chop it and screw it. Do whatever to it, but it in the store the shit moving. Gave 'em a hundred bars, they ain't think I could do it. Came with two hundred, ***** this is more than music. Even Dre knew it, that boy hot like summer. Both ??? in the dirt, 300 Bars and Runnin. And I beef with any *****, say my name muthafuck I'm gunnin'. You can put it on skee if you want it. I'll air you out on Drama King, Mike, or Clue. And watch them shits sell out like a Air Jordon shoe. I told Funk Flex when I catch the ***** Whoo Kid. We gon' see if he know how to DJ with bruised ribs. Don't hit me on the sidekick asking what you did. Get a gun or ask 50's police to use his. Cuz Bloods gonna get ya. Bloods, Bloods gonna get ya for that Shadyville chain. That 380 spill brains, when I pop shots. Outside NY, in front of hip-hop cops. Or broad day in L.A., I'ma tell Em and Dre. This ***** bootlegging my music, ain't nothing for him to say. Took me off my own songs, then put it on his tapes. So I'ma take him out his house, put the beam on his face. Drop him off at Terror Squad, let him scream for the jakes. Cuz when you fucking with Jayceon, you can bleed in the lake. For caking off *****z on them CD's and tapes. Ask them to scratch a record, you will see he fake. If 50 was Puffy, you'd run and go get him a cheese cake. Take the DJ off your name, Mr. Instant replay. Not the instant replay. I mean the machine that G-Unit use every time 50 on stage singing like. Bitches only for your shit just a lil bit. *****z only for your shit just a lil bit. On my album 50 helped me just a lil bit. Only on two songs, now back to some killer shit. My clips bananas, I kill a gorilla quick. Beating on your chest, I see to your death, yep. Tell Ecko to make him a suit. Tell Reebock to make him some boots. Get him a head band, to cover the holes in his head. He a dead man for thinking he can walk through muddy waters like Redman. Banks blacked out and let the gun blam without a M-E-T-H-O-D Man. So the lieutenant gotta ask for his strings. Take my advice, never wear air max for the ???. Unless you one of the Bloods, or a latin king. Cuz if your left with the Aryans your ass will sting. And your cell mate is a 25 to lifer. They will stab you then ??? then fuck you on Rikers. And Life Goes On. Now back to the coward of the hour who lied and said he write my songs. He told Vibe Dre was gonna leave me on the shelf. So he gave me all his hits, you should've kept them for yourself. ***** stop acting tough before I stand over you. Show you how The Documentary live on top of The Massacre. Make a move I'm blasting your ass to the last one. Ten shots from the Mack empty the rest in the passenger. Fase yelling thats enough, let the coroner bag him up. Throw in Makaveli and lift the doors on the Maganum. Gun smoking, Fase think I'm locin' backing up. Reverse the '05 hurse on 41st and traffic, what. Hip-Hop cops on my left, but I pass 'em up. The Dodge got a hemmy in it, Game got a Remy in 'em. In and out of lanes like a New York cab. I'm Mr. Ol' King, that New York cab. Who's this fake *****, on pictures with the Jake *****?. Got his crew starving cuz he aint the whole cake, *****. He ain't Nas, ain't B.I.G., ain't Jigga. If he ain't Cube or Pac then who you got?. We getting tired of you talkin about who you shot. I'll use another six bars to tell you who you not. You ain't 50 Cent, he went out like a gangsta. You went out with Vivica, three months after wanksta. Get Rich or Die Tryin, we thought you was hot. Now the same ***** wanna take us to the Candy Shop. C'mon man, what happened to the thug?. Now you could find in the club, him and Lloyd Banks hugging. ***** got mad when The Game start buzzing. So fuck making friends now I'm into throwing slugs. Olivia talking about we a family, Game had to go. ***** I'll smack that ho like I'm Jackie-O. Cuz I don't wanna be cool, I don't wanna be you. I don't wanna shake hands, or wear your G-Unit shoes. Don't want you on my hooks, don't wanna be in your group. Just wanna sit here and wait. To be gone, so I can head back to the block. Fresh white Nike airs and the matching socks fitted. Pull the brim low, if they don't get it. Bentley Coup on gold daytons, I was the first one with it. Four times platinum, I done been there and did it. Came in the game and shitted, then wiped my ass with it. They say the Lord givth, if Lord take it away. So I build a house on top of Hip-Hop, I'll wait for the day. *****z hating on me, they don't want Jayceon to play. And the DA waiting on Jayceon to make a mistake. So they can put me in the SWAT car and lock me away. Give me a odd job in the pen for minimum pay. Let me out so I can drive down criminal way. Pushing the rock, nah this ain't no subliminal Jay. The summer too hot, and I want the winter to stay. Cuz I'm a cold ***** when I put the pen to the page. Similar to them shells going into my gauge. I hand 'em off to Dre, he turned them into granades. And Just Blaze, cuz the boy got game. Like I close my eyes, and woke up in a Roc chain. Now back to reality, my gun and my vest. And if diamonds are forever, then I'm Kanye West. Take a look at my chest, a hundred thou wet jacob. Whole crew got chains, a hundred thou can't break 'em. And the flow is hot like that wit Satan. And the only thing I got spinning is Daytons. The hotter I get the more willing to snake 'em. So soon as the beat drop, watch where I take 'em. Compton Swap meet, to get me some All-Stars. When Game in the house, they call ???. Cuz they heard about what went on in D.C.. Heard about Hot 97, my beef with 50. Now tell me do he got a conscience?. I think not, cuz if he did I wouldn't be involved in this nonsense. Wouldn't be in Harlem, wouldn't be at this conference. I'd rather be pushing rock, like ???. 50 whispered in my ear, like we still bonding. We ain't friends, I'm just acting like Charles Bronson. Middle finger in the air, one hand on my Johnson. Hip-Hop police on me like I'm the convict. What happened to the old school? I thought it was rhyming. Doug E. Fresh and Dana Day on the corner like Common. Now that ain't common, it's more like Top Ramen. The flow is news, I throw it up like vomit. And I still shine like diamonds. They kicked me out of G-Unit and I rebounded like Rodman. It's still Aftermath, two feet in the pentition. I be mad, I ain't, I'm supposed to stop I can't because. I'm in the hood politican, Impala ???. And I keep a black .45 on the side of my prada denim. Chip on my shoulder like I'm fresh outta prison. Dollar vision, blow a hundred thou like my wallet missing. Then re-up like kid before the d-cup. Continuously getting money with my feet up. Chasing the throne, here my black Air Force. I said fuck Benzino and got the cover of The Source. Feel me? If not then I guess you gotta kill me. But you ain't gon' do that so muthafucka move back. While I do B.I.G. and 'Pac impersonations on two tracks. When I wake the dead, everybody remove hats. We miss ya'll, can I get a hand clap?. Now back to rap, why I gotta stay strapped?. On that murder T-I-P, kill you ASAP. They won't know which hole to patch up, when the ??? clap. I tried to spare you Young Buck, now it's time for payback. It go, how you from Cashville but you ain't got no cash *****?. Say my name now that's your fucking ass *****. Kept your mouth shut and I gave you a pass *****. Now I gotta lay you down like the last *****. Buck, buck, buck from my AK-47. This ***** playing with his life, I might have to put him in heaven. Tryna play the game, talking shit up on the stereo. Prepare for burial, it's when I'm reincarnating Harry-O. And you don't want that David cuz you love your life. Get my Vibe, when it's war he pull out butter knifes. Muthafucka I'ma show you who the gangsta. All you do is Murder Inc., now who the wanksta?. When Suge had you, you were stranded on Tha Row. Juve left you for dead and went back to the NO. 50 heard you on the tour bus and felt your little flow. Then he made you temporary replacement for Yayo. You a bitch, and that's hard to swallow. And you got robbed for your spinning G-Unit chain in Chicago. I call my ***** Jojo to get it back. He had the shit in his hands, and you ain't had the ten stacks. Picture that, I thought we was G-Unit. Then you ran and told 50 that I did that shit. Ask C-Murder, the boy ain't hard to find. I told Monica when I catch him The Boy is Mine. Take one shot of Brandy and pop. Watch his panties drop, when I run inside the Candy Shop. Fuck you, 50, Banks, Yayo, and the cops. And Olivia, I mean for a man she hot. Now I'm running out of breath, like I just beat boxed. Got 20 bars to go, lay it down like sheet rock. Don't worry about the flow, the boy know he hot. Hurricanes in store November, ***** fuck Reebocks. I'm fly like a Hummingbird on a tree top. The new Hov, the new B.I.G., the new 'Pac, I need three spots. 280 in, ain't no getting me back. I'm yelling fuck the world, on my victory lap. Remember first it was Buddens, then it was Bleek. Now it's whoever muthafucka, yeah, who want beef?. Now whenever muthafucka, who wanna see me?. In the coffin, body exhausted, resting in peace. You don't want war *****, you want peace. So give 'em the peace, capiche (sp?). Let 'em rest in peace. From west to east the flow is outdatable, irreplacable. Lyrical homicide, hell is hot, I'm boxing with Satan. And I slipped 'em the ace, you cannot replace 'em. If Eazy ever decide to return, I remain Jayceon. A king in the making, and the throne is for the taking. So I climb the mountain top and put my stake in. Got the weight of the world on my shoulder. Not a ***** nor a hoodrat bitch can stop me from taking it over. This is crack music, go get the baking soda. 300 Bars and Runnin, ***** the wait is over. I'm gone gone gone gone gone gone gone gone gone gone gone. *Enviado por \"Sekef\" \n",
      "##################################################\n",
      "##################################################\n",
      "song #2 \n",
      "[Intro: Jay-Z (Kanye)]. [laughing]. Yo fuck you, Kanye, first and foremost. For making me do this shit. Muh'fucker. Had to throw everybody out the motherfucking room. 'Cause they don't fucking... (I'd like to propose a toast). (I said toast motherfucker). [Chorus: Kanye]. And I am. And they ask me, they ask me, they ask me, I tell them. Raise your glasses, your glasses, your glasses to the sky. This is the last call for alcohol, for the... So get your ass up off the wall. [Verse 1]. The all around the world Digital Underground, Pac. The Rudloph the red nosed reindeer of the Roc. I take my chain, my 15 seconds of fame. And come back next year with the whole fucking game. Ain't nobody expect Kanye to end up on top. They expected that College Dropout to drop and then flop. Then maybe he stop savin' all the good beats for himself. Rocafella's only niggaz that help. My money was thinner than Sean Paul's goatee hair. Now Jean Paul Gaultier cologne fill the air, here. They say he bourgie, he big-headed. Won't you please stop talking about how my dick head is. Flow infectious, give me 10 seconds. I'll have a buzz bigger than insects in Texas. It's funny how wasn't nobody interested. 'Til the night I almost killed myself in Lexus. [Chorus]. [Verse 2]. Now was Kanye the most overlooked? Yes sir. Now is Kanye the most overbooked? Yes sir. Though the fans want the feeling of A Tribe Called Quest. But all they got left is this guy called West. Better take Freeway, throw him on tracks with Mos Def. Call him Kwa-lI or Kwe-li, I put him on songs with Jay-Z. I'm the Gap like Banana Republic and Old Navy, and oooh. It come out sweeter than old Sadie. Nice as Bun-B when I met him at the Source awards. Girl he had with him - ass coulda won the horse awards. And I was almost famous, now everybody love Kanye. I'm almost reignin'. Some say he arrogant. Can y'all blame him?. It was straight embarrassing how y'all played him. Last year shoppin my demo, I was tryin' to shine. Every motherfucker told me that I couldn't rhyme. Now I could let these dream killers kill my self-esteem. Or use my arrogance as the steam to power my dreams. I use it as my gas, so they say that I'm gassed. But without it I'd be last, so I ought to laugh. So I don't listen to the suits behind the desk no more. You niggaz wear suits 'cause you can't dress no more. You can't say shit to Kanye West no more. I rocked 20,000 people, I was just on tour, nigga. I'm Kan, the Louis Vuitton Don. Bought my mom a purse, now she Louis Vuitton Mom. I ain't play the hand I was dealt, I changed my cards. I prayed to the skies and I changed my stars. I went to the malls and I balled too hard. 'Oh my god, is that a black card?'. I turned around and replied, why yes but I prefer the term. African American Express. Brains, power, and muscle, like Dame, Puffy, and Russell. Your boy back on his hustle, you know what I've been up to. Killin y'all niggaz on that lyrical shit. Mayonnaise colored Benz, I push Miracle Whips. [Chorus]. \"... last call for alcohol, for my niggaz\". [Outro]. So this A&R over at Rocafella, named Hiphop. picked the Truth beat for Beanie. And I was in the session with him. I had my demo with me. You know, like I always do. I play the songs, he's like \"Who that spittin?\". I'm like \"It's me.\" He's like \"Oh, well okay.\". Uhh, he started talkin to me on the phone. going back and forth, just askin me to send him beats. And I'm thinking he's trying to get into managing producers. cause he had this other kid named Just Blaze he was messin with. And um, he was friends with my mentor, No ID. And No ID told him, \"look man, you wanna mess with Kanye. you need to tell him that you like the way he rap\". [No ID:] \"Yo, you wanna sign him, tell him you like how he rap\". I was all, I dunno if he was gassin' me or not. but he's like he wanna manage me as a rapper AND a producer. [Hiphop:] \"I'll sign you as a producer and a rapper\",. I'm like oh shit. I was messin with, uh, D-Dot also. People were like this, started talking about the Ghost production. But that's how I got in the game. If it wasn't for that, I wouldn't be here. So you know. After they picked that Truth beat. I was figuring I was gonna do some more work. But shit just went poppin off like that. I was stayin in Chicago. I had my own apartment. I be doin' like, just beats for local acts. just to try to keep the lights on, and then to go out and buy. get a Pelle Pelle off lay-away, get some Jordans or something. or get a TechnoMarine, that's what we wore back then. I made this one beat where I sped up this Hal Melville sample. I played it for Hip over the phone, he's like \"oh, yo that shit is crazy. Jay might want it for this compilation album he doin, called The Dynasty.\". And at that time, like the drums really weren't soundin' right to me. so I went and um, I was listening to Dre Chronic 2001 at that time. and really I just, like picked the drums off Xxplosive and put it like. with it sped up, sampled, and now it's kind of like my whole style. when it started, when he rapped on 'This Can't be Life.'. And that was like, really the first beat of that kind that was on the Dynasty album. I could say that was the, the resurgence of this whole sound. You know, I got to come in and track the beat, and at the time. I was still with my other management. I really wanted to roll with. Hiphop. 'Cause I, I just needed some fresh air, you know what I'm. sayin, 'cause I been there for a while, I appreciated what they did. for me, but, you know there's a time in every man's life where he. gotta make a change, try to move up to the next level. And that day I. came and I tracked the beat and I got to meet Jay-Z and he said, \"oh. you a real soulful dude\" [Jay-Z: \"you a real soulful dude\"]. And he. uh, played the song 'cause he already spit his verse by the time I got. to the studio, you know how he do it, one take. And he said. [Jay-Z:] \"check this out, tell me what you think of this, right here\". \"tell me what you think of this.\" And I heard it, and I was thinking. like, man, I really wanted more like of the simple type Jay-Z, I ain't. want like the, the more introspective, complicated rhy- or the, in my. personal opinion. So he asked me, \"what you think of it?\". [Jay-Z:] \"so what you thinkin?\". And I was like, \"man that shit tite,\". you know what I'm sayin', man what I'ma tell him? I was on the train. man, you know. So after that I went back home. And man I'm, I'm just. in Chicago, I'm trying to do my thing. You know, I got groups. I got. acts I'm trying to get on, and like there wasn't nothin really like. poppin' off the way it should have been. One of my homeys that was one. of my artists, he got signed. But it was supposed to really go through. my production company, but he ended up going straight with the. company. So, like I'm just straight holdin' the phone, gettin' the bad. news that dude was tryin' to leave my company. And I got evicted at. the same time. So I went down and tracked the beats from him, I took. that money, came back, packed all my shit up in a U-Haul, maybe about. ten days before I had to actually get out. So I ain't have to deal. with the landlord 'cause he's a jerk. Me and my mother drove to. [Mother:] \"Come on, let's just go\". Newark, New Jersey. I hadn't even seen my apartment.. I remember I pulled up. [Mother:] \"Kanye, baby, we're here\",. I unpacked all my shit. You know, we went to Ikea, I bought a. bed, I put the bed together myself. I loaded up all my equipment, and. the first beat I made was, uh, 'Heart of the City.'. And Beans was still working on his album at that time, so I came up. there to Baseline, it was Beans' birthday, matter of fact, and I. played like seven beats. And, you know I could see he's in the zone. he already had the beats that he wanted, I did nothing like already at. that time. But then Jay walked in. I remember he had a GuccI bucket. hat on. I remember it like, like it was yesterday. And Hiphop said. \"yo play that one beat for him.\" And I played 'Heart of the City.' And. really I made 'Heart of the City,' I really wanted to give that beat to DMX.. [Hiphop:] \"No I think Jay gon' like this one right here\".. And I played another beat, and I played another beat. And I remember that. GuccI bucket, he took it and like put it over his face and made one of. them faces like 'OOOOOOOOOOH.' Two days later I'm in Baseline and I seen. Dame. Dame didn't know who I was and I was like \"yo what's up I'm Kanye.\". [Dame:] \"Yo, you that kid, Kanye?\". \"You that kid that gave all them beats to Jay?. Yo, this nigga got classics\". [Dame:] \"Jay got classics, G.\". You know I ain't talkin shit.. I'm like \"oh shit.\" And all this time I'm starstruck, man. I'm. still thinking 'bout, you know I'm picturing these niggaz on the show. The Streets is Watching, I'm lookin, these were superstars in my. eyes. And they still are, you know. So, Jay came in and he spit all. these songs like in one day, and in two days... I gotta bring up one. thing, you know, come back to the story, the day I did the 'Can't be. Life' beat on track, I remember Lenny S, he had some Louis Vuitton. sneakers on, he think he fly. And Hiphop was there, I think Tata, John. Minnelli, a bunch of people. I didn't know all these people at the. time they was in the room, and I said, \"yo Jay I could rap.\" And I. spit this rap that said, uh \"I'm killin y'all niggaz on that lyrical. shit. Mayonnaise colored Benz, I push miracle whips.\" And I saw his. eyes light up when I said that line. But you know the West, the rap. was like real wack and shit, so that's all the response.. He said \"man that was tite.\". [Jay-Z:] \"That, that was cool. That was hot.\". That was it. You know, I ain't get no deal then, hehe.. Okay, fast forward.. So, Blueprint, H to the Izzo, my first hit single. And I just. took that proudly, built relationships with people. My relationship. with KwelI I think was one of the best ones to ever happen to my. career as a rapper. Because, you know, of course later he allowed me. to go on tour with him. Man, I appre-- I love him for that. And at. this time, you know I didn't have a deal, I had songs, and I had. relationships with all these A&R's, and they wanted beats from me, so. they'd call me up, I'd play them some beats. \"Gimme a beat that sound. like Jay-Z.\" You know, they dick riders. Whatever. So I'll play them. these post-Blueprint beats or whatever and then I'll play my shit. I'll. be like, \"yo but I rap too.\" Hey, I guess they was lookin' at me crazy. 'cause you know, 'cause I ain't have a jersey on or whatever. Everybody out there listen here. I played them 'Jesus Walks' and they. didn't sign me. You know what happened, it was some A&R's that fucked. with me though, but then like the heads, it'd be somebody at the. company that'll say \"naw.\" Like, Dave LottI fucked with me, my. nigga Mel brought me to a bunch of labels. Jessica Rivera, man. [Jessica:] \"Man, you niggaz is stupid if y'all don't sign Kanye, for real.\". I'm not gonna say nothin to mess my promotion up. \"Y'all niggaz is stupid\". Let's just say I didn't get my deal.. The nigga that was behind me, I mean,. he wasn't even a nigga, you know?. The person who actually kicked everything off was Joe 3H from Capitol. Records. He wanted to sign me really bad.. [Joe:] \"We gonna change the game, buddy.\". Dame was like, \"yo you got a deal with Capitol,. okay man, just make sure it's not wack.\". [Dame:] \"you gotta make sure it's not wack.\". Then one day I just went ahead and played it, I wanted to. play some songs, 'cause you know Cam was in the room, Young Guru, and. Dame was in the room. So I played... actually it's a song that you'll. never hear, but maybe I might use it. So, it's called 'Wow.'. \"I go to Jacob with 25 thou, you go with 25 hundred, wow. I got eleven plaques on my walls right now. You got your first gold single, damn, nigga, wow.\". Like the chorus went. Don't bite that chorus, I might still use it. So. I play that song for him, and he's like \"oh shit\". [Dame:] \"Oh shit it's not even wack.\". \"I ain't gonna front, it's kinda hot.\". [Dame:] \"it's actually kinda hot.\". Like they still weren't looking at me. like a rapper. And I'm sure Dame figured, 'like man. If he do a whole. album, if his raps is wack at least we can throw Cam on every song and. save the album, you know. So uh Dame took me into the office, and he's. like \"yo man, we, we on a brick, we on a brick\". [Dame:] \"you don't wanna catch a brick\". You gotta be under an umbrella, you'll get rained on.. I told Hiphop and Hiphop was all, \"oh, word?\" Actually, even with. that I was still about to take the deal with Capitol 'cause it was. already on the table and 'cause of my relationship with 3H. That, you. know, 'cause I told him I was gonna do it, and I'm a man of my word, I. was gonna roll with what I said I was gonna do. Then, you know, I'm. not gonna name no names, but people told me, \"oh he's just a producer. rapper\" and told 3H that told the heads of the Capitol, and right--. the day I'm talking about, I planned out everything I was gonna do. man, I had picked out clothes, I already started booking studio. sessions, I started arranging my album, thinking of marketing schemes. man I was ready to go. And they had Mel call me, they said. \"yo... Capitol pulled on the deal\". [Mel:] \"Yo, Capitol pulled out on the deal.\". And, you know I told them that Rocafella was interested. and I don't know if they thought that was just something I was saying. to gas them up to try to push the price up or whatever. I went up... I. called G, I said, \"man, you think we could still get that deal with Rocafella?\" \n",
      "##################################################\n",
      "##################################################\n",
      "song #3 \n",
      "[Intro: Jay-Z (Kanye)]. [laughing]. Yo fuck you, Kanye, first and foremost. For making me do this shit. Muh'fucker. Had to throw everybody out the motherfucking room. 'Cause they don't fucking... (I'd like to propose a toast). (I said toast motherfucker). [Chorus: Kanye]. And I am. And they ask me, they ask me, they ask me, I tell them. Raise your glasses, your glasses, your glasses to the sky. This is the last call for alcohol, for the... So get your ass up off the wall. [Verse 1]. The all around the world Digital Underground, Pac. The Rudloph the red nosed reindeer of the Roc. I take my chain, my 15 seconds of fame. And come back next year with the whole fucking game. Ain't nobody expect Kanye to end up on top. They expected that College Dropout to drop and then flop. Then maybe he stop savin' all the good beats for himself. Rocafella's only niggaz that help. My money was thinner than Sean Paul's goatee hair. Now Jean Paul Gaultier cologne fill the air, here. They say he bourgie, he big-headed. Won't you please stop talking about how my dick head is. Flow infectious, give me 10 seconds. I'll have a buzz bigger than insects in Texas. It's funny how wasn't nobody interested. 'Til the night I almost killed myself in Lexus. [Chorus]. [Verse 2]. Now was Kanye the most overlooked? Yes sir. Now is Kanye the most overbooked? Yes sir. Though the fans want the feeling of A Tribe Called Quest. But all they got left is this guy called West. Better take Freeway, throw him on tracks with Mos Def. Call him Kwa-lI or Kwe-li, I put him on songs with Jay-Z. I'm the Gap like Banana Republic and Old Navy, and oooh. It come out sweeter than old Sadie. Nice as Bun-B when I met him at the Source awards. Girl he had with him - ass coulda won the horse awards. And I was almost famous, now everybody love Kanye. I'm almost reignin'. Some say he arrogant. Can y'all blame him?. It was straight embarrassing how y'all played him. Last year shoppin my demo, I was tryin' to shine. Every motherfucker told me that I couldn't rhyme. Now I could let these dream killers kill my self-esteem. Or use my arrogance as the steam to power my dreams. I use it as my gas, so they say that I'm gassed. But without it I'd be last, so I ought to laugh. So I don't listen to the suits behind the desk no more. You niggaz wear suits 'cause you can't dress no more. You can't say shit to Kanye West no more. I rocked 20,000 people, I was just on tour, nigga. I'm Kan, the Louis Vuitton Don. Bought my mom a purse, now she Louis Vuitton Mom. I ain't play the hand I was dealt, I changed my cards. I prayed to the skies and I changed my stars. I went to the malls and I balled too hard. 'Oh my god, is that a black card?'. I turned around and replied, why yes but I prefer the term. African American Express. Brains, power, and muscle, like Dame, Puffy, and Russell. Your boy back on his hustle, you know what I've been up to. Killin y'all niggaz on that lyrical shit. Mayonnaise colored Benz, I push Miracle Whips. [Chorus]. \"... last call for alcohol, for my niggaz\". [Outro]. So this A&R over at Rocafella, named Hiphop. picked the Truth beat for Beanie. And I was in the session with him. I had my demo with me. You know, like I always do. I play the songs, he's like \"Who that spittin?\". I'm like \"It's me.\" He's like \"Oh, well okay.\". Uhh, he started talkin to me on the phone. going back and forth, just askin me to send him beats. And I'm thinking he's trying to get into managing producers. cause he had this other kid named Just Blaze he was messin with. And um, he was friends with my mentor, No ID. And No ID told him, \"look man, you wanna mess with Kanye. you need to tell him that you like the way he rap\". [No ID:] \"Yo, you wanna sign him, tell him you like how he rap\". I was all, I dunno if he was gassin' me or not. but he's like he wanna manage me as a rapper AND a producer. [Hiphop:] \"I'll sign you as a producer and a rapper\",. I'm like oh shit. I was messin with, uh, D-Dot also. People were like this, started talking about the Ghost production. But that's how I got in the game. If it wasn't for that, I wouldn't be here. So you know. After they picked that Truth beat. I was figuring I was gonna do some more work. But shit just went poppin off like that. I was stayin in Chicago. I had my own apartment. I be doin' like, just beats for local acts. just to try to keep the lights on, and then to go out and buy. get a Pelle Pelle off lay-away, get some Jordans or something. or get a TechnoMarine, that's what we wore back then. I made this one beat where I sped up this Hal Melville sample. I played it for Hip over the phone, he's like \"oh, yo that shit is crazy. Jay might want it for this compilation album he doin, called The Dynasty.\". And at that time, like the drums really weren't soundin' right to me. so I went and um, I was listening to Dre Chronic 2001 at that time. and really I just, like picked the drums off Xxplosive and put it like. with it sped up, sampled, and now it's kind of like my whole style. when it started, when he rapped on 'This Can't be Life.'. And that was like, really the first beat of that kind that was on the Dynasty album. I could say that was the, the resurgence of this whole sound. You know, I got to come in and track the beat, and at the time. I was still with my other management. I really wanted to roll with. Hiphop. 'Cause I, I just needed some fresh air, you know what I'm. sayin, 'cause I been there for a while, I appreciated what they did. for me, but, you know there's a time in every man's life where he. gotta make a change, try to move up to the next level. And that day I. came and I tracked the beat and I got to meet Jay-Z and he said, \"oh. you a real soulful dude\" [Jay-Z: \"you a real soulful dude\"]. And he. uh, played the song 'cause he already spit his verse by the time I got. to the studio, you know how he do it, one take. And he said. [Jay-Z:] \"check this out, tell me what you think of this, right here\". \"tell me what you think of this.\" And I heard it, and I was thinking. like, man, I really wanted more like of the simple type Jay-Z, I ain't. want like the, the more introspective, complicated rhy- or the, in my. personal opinion. So he asked me, \"what you think of it?\". [Jay-Z:] \"so what you thinkin?\". And I was like, \"man that shit tite,\". you know what I'm sayin', man what I'ma tell him? I was on the train. man, you know. So after that I went back home. And man I'm, I'm just. in Chicago, I'm trying to do my thing. You know, I got groups. I got. acts I'm trying to get on, and like there wasn't nothin really like. poppin' off the way it should have been. One of my homeys that was one. of my artists, he got signed. But it was supposed to really go through. my production company, but he ended up going straight with the. company. So, like I'm just straight holdin' the phone, gettin' the bad. news that dude was tryin' to leave my company. And I got evicted at. the same time. So I went down and tracked the beats from him, I took. that money, came back, packed all my shit up in a U-Haul, maybe about. ten days before I had to actually get out. So I ain't have to deal. with the landlord 'cause he's a jerk. Me and my mother drove to. [Mother:] \"Come on, let's just go\". Newark, New Jersey. I hadn't even seen my apartment.. I remember I pulled up. [Mother:] \"Kanye, baby, we're here\",. I unpacked all my shit. You know, we went to Ikea, I bought a. bed, I put the bed together myself. I loaded up all my equipment, and. the first beat I made was, uh, 'Heart of the City.'. And Beans was still working on his album at that time, so I came up. there to Baseline, it was Beans' birthday, matter of fact, and I. played like seven beats. And, you know I could see he's in the zone. he already had the beats that he wanted, I did nothing like already at. that time. But then Jay walked in. I remember he had a GuccI bucket. hat on. I remember it like, like it was yesterday. And Hiphop said. \"yo play that one beat for him.\" And I played 'Heart of the City.' And. really I made 'Heart of the City,' I really wanted to give that beat to DMX.. [Hiphop:] \"No I think Jay gon' like this one right here\".. And I played another beat, and I played another beat. And I remember that. GuccI bucket, he took it and like put it over his face and made one of. them faces like 'OOOOOOOOOOH.' Two days later I'm in Baseline and I seen. Dame. Dame didn't know who I was and I was like \"yo what's up I'm Kanye.\". [Dame:] \"Yo, you that kid, Kanye?\". \"You that kid that gave all them beats to Jay?. Yo, this nigga got classics\". [Dame:] \"Jay got classics, G.\". You know I ain't talkin shit.. I'm like \"oh shit.\" And all this time I'm starstruck, man. I'm. still thinking 'bout, you know I'm picturing these niggaz on the show. The Streets is Watching, I'm lookin, these were superstars in my. eyes. And they still are, you know. So, Jay came in and he spit all. these songs like in one day, and in two days... I gotta bring up one. thing, you know, come back to the story, the day I did the 'Can't be. Life' beat on track, I remember Lenny S, he had some Louis Vuitton. sneakers on, he think he fly. And Hiphop was there, I think Tata, John. Minnelli, a bunch of people. I didn't know all these people at the. time they was in the room, and I said, \"yo Jay I could rap.\" And I. spit this rap that said, uh \"I'm killin y'all niggaz on that lyrical. shit. Mayonnaise colored Benz, I push miracle whips.\" And I saw his. eyes light up when I said that line. But you know the West, the rap. was like real wack and shit, so that's all the response.. He said \"man that was tite.\". [Jay-Z:] \"That, that was cool. That was hot.\". That was it. You know, I ain't get no deal then, hehe.. Okay, fast forward.. So, Blueprint, H to the Izzo, my first hit single. And I just. took that proudly, built relationships with people. My relationship. with KwelI I think was one of the best ones to ever happen to my. career as a rapper. Because, you know, of course later he allowed me. to go on tour with him. Man, I appre-- I love him for that. And at. this time, you know I didn't have a deal, I had songs, and I had. relationships with all these A&R's, and they wanted beats from me, so. they'd call me up, I'd play them some beats. \"Gimme a beat that sound. like Jay-Z.\" You know, they dick riders. Whatever. So I'll play them. these post-Blueprint beats or whatever and then I'll play my shit. I'll. be like, \"yo but I rap too.\" Hey, I guess they was lookin' at me crazy. 'cause you know, 'cause I ain't have a jersey on or whatever. Everybody out there listen here. I played them 'Jesus Walks' and they. didn't sign me. You know what happened, it was some A&R's that fucked. with me though, but then like the heads, it'd be somebody at the. company that'll say \"naw.\" Like, Dave LottI fucked with me, my. nigga Mel brought me to a bunch of labels. Jessica Rivera, man. [Jessica:] \"Man, you niggaz is stupid if y'all don't sign Kanye, for real.\". I'm not gonna say nothin to mess my promotion up. \"Y'all niggaz is stupid\". Let's just say I didn't get my deal.. The nigga that was behind me, I mean,. he wasn't even a nigga, you know?. The person who actually kicked everything off was Joe 3H from Capitol. Records. He wanted to sign me really bad.. [Joe:] \"We gonna change the game, buddy.\". Dame was like, \"yo you got a deal with Capitol,. okay man, just make sure it's not wack.\". [Dame:] \"you gotta make sure it's not wack.\". Then one day I just went ahead and played it, I wanted to. play some songs, 'cause you know Cam was in the room, Young Guru, and. Dame was in the room. So I played... actually it's a song that you'll. never hear, but maybe I might use it. So, it's called 'Wow.'. \"I go to Jacob with 25 thou, you go with 25 hundred, wow. I got eleven plaques on my walls right now. You got your first gold single, damn, nigga, wow.\". Like the chorus went. Don't bite that chorus, I might still use it. So. I play that song for him, and he's like \"oh shit\". [Dame:] \"Oh shit it's not even wack.\". \"I ain't gonna front, it's kinda hot.\". [Dame:] \"it's actually kinda hot.\". Like they still weren't looking at me. like a rapper. And I'm sure Dame figured, 'like man. If he do a whole. album, if his raps is wack at least we can throw Cam on every song and. save the album, you know. So uh Dame took me into the office, and he's. like \"yo man, we, we on a brick, we on a brick\". [Dame:] \"you don't wanna catch a brick\". You gotta be under an umbrella, you'll get rained on.. I told Hiphop and Hiphop was all, \"oh, word?\" Actually, even with. that I was still about to take the deal with Capitol 'cause it was. already on the table and 'cause of my relationship with 3H. That, you. know, 'cause I told him I was gonna do it, and I'm a man of my word, I. was gonna roll with what I said I was gonna do. Then, you know, I'm. not gonna name no names, but people told me, \"oh he's just a producer. rapper\" and told 3H that told the heads of the Capitol, and right--. the day I'm talking about, I planned out everything I was gonna do. man, I had picked out clothes, I already started booking studio. sessions, I started arranging my album, thinking of marketing schemes. man I was ready to go. And they had Mel call me, they said. \"yo... Capitol pulled on the deal\". [Mel:] \"Yo, Capitol pulled out on the deal.\". And, you know I told them that Rocafella was interested. and I don't know if they thought that was just something I was saying. to gas them up to try to push the price up or whatever. I went up... I. called G, I said, \"man, you think we could still get that deal with Rocafella?\" \n",
      "##################################################\n",
      "##################################################\n",
      "song #4 \n",
      "And wherever we go. And whatever we do. And whatever we see. And whoever we be. It don't matter. It don't matter. I don't mind cause you don't matter. I don't mind cause I don't matter. (And don't shit matter). You'll see in the end. I've got a feeling that there's somethin' more. Something that holds us together. Something that holds us together. The strangest feeling but I can't be sure. Something that's old as forever. Something that's old as forever. Love. Love. Love. Love. And wherever we go. And whatever we do. And whatever we see. And whoever we be. It don't matter. It don't matter. I don't mind cause you don't matter. I don't mind cause I don't matter. (And don't shit matter). You'll see in the end. . Yeah nigga, Forest Hills Drive. Yeah, yeah, yeah, yeah, yeah. That's it. We made it, baby! As we speak the last sample just cleared. Thank you to whoever in Japan, just cleared that shit. Turn my vocal up and turn the headphones down a little bit. I gotta do my thank you's man. I didn't have enough time to turn my thank you's for the artwork. So fuck it. I'mma do it right now. This is the credits. This is role credits nigga. If you don't wanna sit through the credits get your ass up and. Walk out the movie theatre. First and foremost my entire Dreamville team, thank you man. Before that I'm buggin, thank you God! Oh my God. Everything happened too perfectly and in line, this whole thing. Thank you God. Thank my Dreamville family. Mez who fuckin' sleep right now, that. Nigga ain't even recording this thing right now. Nigga's been working' hard man, Mez I'm proud as fuck of you man. For real you killed this shit. Ib what up. El Presidente what up!. We killed this shit nigga, we killed this shit nigga!. I don't give a fuck if we sell 3 copies nigga, we killed this shit nigga!. My nigga Adam, I'm proud of y'all man, for real. Ron Gilmore, my nigga. Yes, Camille, yes that's my sister. Casey, that's like a father figure right there, Casey. My brother Ced, wow, we done came a long way from the Ville. My nigga Gray Street. My nigga Felton, you killed it, you killed that Friday Night Lights. Shit nigga. And you killed this one too man. I shoulda been coming to you man. You only do the classics though, that's what it is, for real. My nigga Mike Shaw shiggity, you already know. Where he at right now posted up somewhere in D. R. My nigga Rj Trump Trump gettin' that motherfuckin' bread. You know what it is man. My nigga Diz, I see you. I see your vision, I believe in you. I love y'all niggas. Big D, thank you man for real. (Teddy what up) (Shotgun). We believe in y'all, (Proof!) you and the fiends. My nigga Bassy Badass, Bas, Bas, Bas, I can't believe it nigga!. (Marquis Jones) You changed your life, man, keep goin'. Keep goin'. the sky is the limit. Fuck that, man, Super Mooking Fiends. It's Super Mooking Fiends nigga!. My nigga Depp, you know what I mean?. Razzle Dazzle, Elite, Elite, Elite, Elite what up!. What up man, my nigga Reagan put in them hours!. My nigga Omen, man, Elephant Eyes, that shit is a. Confirmed classic, man. Dreamville, we only did confirmed classics so far. That's all we doin'. Yo Elijah! Aye if we go diamond. Nigga you got the triple crown, man. First 50, then Usher. Nigga you fuckin' out of here. But we might go wood though. Nervous Wreck, man, congratulations to you, brother, I love you. (At least go silver) Filthy, I love you too, man. I know you feel a way about me right now but I love you. Yo shout to the young niggas, man. Forreal, we blessed to have y'all on board, man, we feel so grateful. Cozz, that Cozz and Effect is a mothafuckin' classic, nigga. I be ridin' my bike through Manhattan listenin' to that shit, man. I've been livin' with that shit for like the past 4 days. I finally got a chance to slow down. That shit is a classic, my nigga. Congratulations to you. We don't give a fuck what it sold. I don't even know what that shit sold to tell you the truth, man. And I'm proud of you, man. I'm proud of you and your homeboys. Y'all it's really gon' be great to watch y'all grow. I'm appreciatin' watchin' y'all grow more than we did!. I get to relive it all again and actually appreciate it this time. Shout out to the whole committee, man. Tone, Meez, what up. My nigga Money Makin Matt, what up man? Treat them boys right. Man. Everybody that was involved in makin' this album, my nigga Jack. Who's at the board right now, what's up man!. Yo you made the album, man! We gon' live forever, man!. You gotta loop the beat up right now though cause it can't. Okay Raff, Rugged Raff, Perfect Sound Studios. La we couldn't have did it without you. My nigga Dave Linaburg, Nate Jones, Yolanda, Ts, Kaye Fox. Came through and killed it. My nigga Quick with the clean versions. Vinylz killed that beat! My nigga Phonix, oh that beat is hard!. Dahi brought that beat, who does that?. Pop & Oak, my nigga Pop, thank you man, and Willie B. I never met you but you did the beat. ! llmind you killed the beat. Social Experiment, my nigga Jeff on the guitar. You know what I mean? Nuno did the mothafuckin' strings. I appreciate that shit, man! We gon' pay you. Hey, the horn players that came through. I don't know y'all names but y'all killed that shit, man. We was lovin' that shit! Shout out to all the girls on the mothafuckin' strings. We appreciate it. Guess that shit a little wild, I ain't gon' lie. Uh, maybe that was my fault, I set y'all up with Rugged Raff. But it's all good, we still killed it though. And all the mothafuckin' samples that cleared, thank you. Y'all be tryin' to give a nigga a hard time on the samples, man!. I'ma go to the fuckin' Supreme Court and try to make this shit. Easier for niggas like me to clear these samples, man. If you made the fuckin' music, and you made the art. And you put it into the world, I should be able to use it. However the fuck I want. I'ma pay you. I'ma give you a percentage. But you shouldn't be able to tell me I can't use it. Ya, that's fuckin'... that's fucked up nigga. You was inspired by the world allow the world to be inspired. By your shit, and to use your shit. So all them people like [?] or whoever that don't let niggas. Use they shit, fuck that man. It's 2014, 2015 by the time you might hear this shit. Fuck that man we movin' on. Man, shout out Drizzy Drake, Kendrick Lamar, Wale. I'm so happy to be peers with y'all niggas and consider y'all niggas. Friends. And I'm sorry I had to come snatch the crown right quick. I had to do it to show niggas it ain't no more motherfuckin' crowns. Man. We gotta be the example, we gotta show these niggas man. It's love at the top. Can't you believe. It's crazy to believe we sitting right here in these mother fuckin'. Seats right now. 15 years ago we was lookin' at these niggas like. \"man we gotta be these niggas! \". Now we those niggas, but it's our responsibility to show. These niggas man it's love up here. Niggas want beef, niggas want. Drama, fuck that we comin' together. Shout out to everybody in Ferguson right now still ridin', still ridin'. Everybody else asleep, y'all still ridin'. And it's bigger than Ferguson, man that shit is fuckin'. Nationwide man. We gotta come together, look at each other. Love each other. We share a common story nigga that's pain. Struggle. And guess what man, we can come together. And that's one things that's gon' do it, that's love. I'm just telling y'all, that's a Public Service Announcement. Back to this shit, yo. Bystorm, I love y'all niggas man. No matter what. Wayne, Just, Mk thank you man you came. On board and killed it. Natalya, what's up!. My nigga Julius Garcia, I already shouted you out but. I shouted out your alias and I just put your whole government. On record and this gon' live forever. Tisha, Tisha, you know. I love you Tisha!. Future the Prince, thank you for those conversations man I needed. That. Roc Nation daamnn, we feel like a family now man, forreal. It was always family but it's so ill to see us come together. on this album, thank y'all very much man. Thank y'all for believing, I know this is a scary idea, I don't know. If it's gonna work or not, as I speak, I don't gave a fuck!. Fuck man, I'm just happy we did this shit. Shout out to Nelly, Ted, Christina, Chaka I love you. Jeff what up, Jay-Z, Hov, holla! Jake Brown what up!. Rich Climate, Tata, my nigga Emory, you know what it is. Shout out to Interscope. Yeah, Joey I. E, 'preciate you, Janet. Gary, Steve Berman, yeah. Columbia, we love y'all man, damn. I'm runnin out of breath and shit. I. I'm sad this is my last album with Columbia. It's not my fault it's all contractual, but I love the fuck out of y'all. We made relationships there that ain't never going away. (Lisa Wiggins!) . Ain't never know what the future holds man. We hope we can do business some day. April, thank you very much my baby. Ayelet, you are a legend, we fuckin' love you. Cj same to you man, y'all been killin' this shit for years. Thank you man, thank you. Rob Stringer, thank you sir. Joe [?] , yes sir. The whole sales team, production, marketing team. My man B Nolan who drove us around in a fuckin' van and a Suv. And showed us all about the radio game, man. And we ain't had no hits, all we had was fuckin' \"Who Dat. \". Tryin' figure this shit out man and I figured it out. B Nolan I finally figured it out. I know you like. \"damn this nigga talking to me\". I'm talking to you man. Cause you used to hear us stressin' over this shit. And I finally figured it out man. Don't none of that shit matter yo. I came all this way, all the way from Fayetteville, North Carolina. Went to New York City got this motherfuckin' record deal. Put out some classics, put out some singles. Had my ups, had my downs. Came all this way just to learn one thing man, and only one fuckin'. Thing matters and that's your happiness. And the only way you gon' get to that happiness is through love. Real, geniuine, motherfuckin' love man. Not the fake shit, not the Hollywood shit. Not the niggas giving you props so you think you the shit. Not motherfuckers knowing you so you think you famous. Not niggas seeing your whip and they want your whip so you feel. Good cause they want your whip. Or they want your bitch, so you feel better, fuck that, real love. Where your crib is at nigga where your heart is at. Where your home is at, where your mom is at, where your girl is at. Mimi what up! I'm fuckin' up my words, I don't care. How am I not gon' shout out Mimi man. Fuck that shit keep the tape rollin'. We still goin'. Wassup man! Forest Hills Drive we gon' do this shit. If you ain't listening to this shit, I don't give a fuck. Nigga it's the fuckin' credits. Don't nobody stay for the movie credits anyway man. My Mama OOh, I love you!. I'm so grateful, blessed to have you. Still in my life, a lot of people ain't got their mothers in they. Life still and I recognise that I'm blessed. Mama I love you. Zach I love you. My pops I love you. James Cole I love you, Jackie I love ya. My whole family I love ya. I'm so grateful man, thank y'all. It all came full circle and. I had to put this shit out in 2014. We barely made, yo. Ib we barely made it nigga. We barely fuckin' made it but we fuckin' made it man. Fuck y'all, but I love y'all at the same time man. Man look, y'all really wanna know who did it?. I'mma tell y'all who did this shit man. Man, Dale Earnhardt jr dawg. I'm never gon' forget, this is gonna sound crazy but. I'm never gonna forget that shit you told me yo. Forreal Dale Earnhardt jr man, thank you dawg. From the bottom of my heart. That shit you said to me changed my life man. And I ain't never gon' forget, ever forreal. For real Dale, form me to you, you my nigga man, forreal. I love you boy. And Jonah! Oh Jonah Hill! How could I forget. Jonah Hill! Yo, that shit you told me when we was in the elevator. Nigga that shit changed my. I'm just fuckin' playin', I don't know either one of those two dudes. I don't know either one of them niggas, I was in the moment. I just lied, I don't give a fuck. 2014 Forest Hills Drive. Cole World man. Thank y'all for listening. If you made it this far then I really fuck with you. Until the next time, I don't know when that's gonna be but. One love baby!. Love. Love. Love. Love \n",
      "##################################################\n"
     ]
    }
   ],
   "source": [
    "for index, song in enumerate(pd.read_csv(INPUT_FILE_PATH,usecols = [0]).iloc[cosine_top_k]['Lyric']):\n",
    "    sep = \"#\"*50\n",
    "    print(F\"{sep}\\nsong #{index} \\n{song} \\n{sep}\")"
   ]
  },
  {
   "attachments": {},
   "cell_type": "markdown",
   "metadata": {},
   "source": [
    "# 1.3 term statistics:\n",
    "Use \"tf_idf\" object that we created earlier and answer the following questions:\n",
    "\n",
    "1. How many unique words we have?\n",
    "2. How many potential word bigrams we have? How many actual word bigrams we have? How do you explain this difference?\n",
    "3. What is the storage size of the input file \"lyrics.csv\"? What is the output file (bow.csv) size? how do you explain this difference?  "
   ]
  },
  {
   "cell_type": "code",
   "execution_count": 12,
   "metadata": {},
   "outputs": [
    {
     "name": "stdout",
     "output_type": "stream",
     "text": [
      "The number of unique words we have in our chunk is 100331\n",
      "The number of bigrams we have in our chunk is 2485009\n",
      "Input file size:  168274338  bytes\n",
      "Output file size:  94708742  bytes\n"
     ]
    },
    {
     "data": {
      "text/plain": [
       "'\\n### Your verbal solution here\\nThe storage size of \"lyrics.csv\" (will be refered to as lyrics) is much larger then the storage size of \"bow.csv\" (will be refered to as bow)\\nand that is because bow serves as a map between uniqe words, and the number of their occurances in each song, not saving the actuall full song lyrics.\\nBecause of that, the number of characters we save is much smaller (reduced because of the pointers of the hash table).\\nIn addition, some actions have been taken that reduces the number of words and the number of characters in each word we save in the lyrics file,\\nfor example: stemming, stop-words removal, etc.\\n### End your verbal solution here\\n'"
      ]
     },
     "execution_count": 12,
     "metadata": {},
     "output_type": "execute_result"
    }
   ],
   "source": [
    "# 1. \n",
    "### YOUR SOLUTION HERE\n",
    "num_unique_words = len(tf_idf.unigram_count.keys())\n",
    "print(\"The number of unique words we have in our chunk is \" +str(num_unique_words))\n",
    "### END YOUR SOLUTION\n",
    "\n",
    "\"\"\"\n",
    "### Your verbal solution here\n",
    "The unigram method counts for each word how many times it appears in the chunk. Therefore, each key will be a unique word.\n",
    "All together, the number of keys in the unigram dictionary will be the number of the unique words we have ion the chunk.\n",
    "### End your verbal solution here\n",
    "\"\"\"\n",
    "\n",
    "# 2.\n",
    "### YOUR SOLUTION HERE\n",
    "actual_bigram_num = len(tf_idf.bigram_count.keys())\n",
    "print(\"The number of bigrams we have in our chunk is \" +str(actual_bigram_num))\n",
    "### END YOUR SOLUTION\n",
    "\n",
    "\"\"\"\n",
    "### Your verbal solution here \n",
    "A bigram is a unique set of 2 words. Assuming we have n unique words, and that bigram can be a set of 2 occurances of the same word\n",
    "(For examples, there are names of people/places which is the same word twice; like yah yah, bol bol, mohamed mohamed, etc).\n",
    "For the first word in the set we have n options, and for the second word in the set we also have n options.\n",
    "All together, the options sums up to be n^2.\n",
    "We already know that we have 100331 words in the chunk, and therefore the potential bigrams we could have is 100331^2,\n",
    "but as we can see, the actual number of bigrams is 2485009 (a much lower amount).\n",
    "The reason for that is because in reality there is a certain logic for the order of the words, and some words will not be consecutive to the others,\n",
    "therefor will not reach the potential 100331^2 number of combinations we can potentially have.\n",
    "### End your verbal solution here\n",
    "\"\"\"\n",
    "\n",
    "# 3.\n",
    "### YOUR SOLUTION HERE\n",
    "import os\n",
    "input_file_size = os.path.getsize(\"lyrics.csv\")\n",
    "print(\"Input file size: \", input_file_size, \" bytes\")\n",
    "output_file_size = os.path.getsize(\"bow.csv\")\n",
    "print(\"Output file size: \", output_file_size, \" bytes\")\n",
    "### END YOUR SOLUTION\n",
    "\n",
    "\"\"\"\n",
    "### Your verbal solution here\n",
    "The storage size of \"lyrics.csv\" (will be refered to as lyrics) is much larger then the storage size of \"bow.csv\" (will be refered to as bow)\n",
    "and that is because bow serves as a map between uniqe words, and the number of their occurances in each song, not saving the actuall full song lyrics.\n",
    "Because of that, the number of characters we save is much smaller (reduced because of the pointers of the hash table).\n",
    "In addition, some actions have been taken that reduces the number of words and the number of characters in each word we save in the lyrics file,\n",
    "for example: stemming, stop-words removal, etc.\n",
    "### End your verbal solution here\n",
    "\"\"\""
   ]
  },
  {
   "attachments": {},
   "cell_type": "markdown",
   "metadata": {},
   "source": [
    "## 1.4 NgramSpellingCorrector\n",
    "Now we will implement a Ngarm (character Ngrams) spelling corrector. That is, we have an out of vocabulary word (v) and we want to retrieve the most similar words (in our vocabulary) to this word.\n",
    "we will model the similarity of two words by-\n",
    "\n",
    "$$JaccardIndex =  \\frac{|X \\cap Y|}{|X \\cup Y|}$$\n",
    "\n",
    "Where v is an out of vocabulary word (typo or spelling mistake), w is in a vocabulary word, X is the ngram set of v and Y is the ngram set of w.\n",
    "For example, if n == 3, the set of ngrams for word \"banana\" is set(\"ban\",\"ana\",\"nan\",\"ana\") = {\"ban\",\"ana\",\"nan\"}\n",
    "\n",
    "In order to do it efficently, we will first construct an index from the possible Ngrams we have seen in our corpus to the words that those Ngrams appear in, in order prevent comparing v to all of the words in our corpus.\n",
    "Then, we will implement a function that computes this similarity.\n",
    "\n",
    "* Make sure you compute the JaccardIndex efficently!"
   ]
  },
  {
   "cell_type": "code",
   "execution_count": 13,
   "metadata": {},
   "outputs": [
    {
     "data": {
      "text/plain": [
       "'\\nfor example - get_bigrams is a generator, which is an object we can loop on:\\nfor ngram in get_bigrams(word):\\n    DO SOMETHING\\n'"
      ]
     },
     "execution_count": 13,
     "metadata": {},
     "output_type": "execute_result"
    }
   ],
   "source": [
    "def get_bigrams(word):\n",
    "    for ngram in nltk.ngrams(word, 2):\n",
    "        yield \"\".join(list(ngram))\n",
    "    \n",
    "def get_bigrams_not_gen(word):\n",
    "    return [\"\".join(list(ngram)) for ngram in nltk.ngrams(word, 2)]\n",
    "\"\"\"\n",
    "for example - get_bigrams is a generator, which is an object we can loop on:\n",
    "for ngram in get_bigrams(word):\n",
    "    DO SOMETHING\n",
    "\"\"\""
   ]
  },
  {
   "cell_type": "code",
   "execution_count": 14,
   "metadata": {},
   "outputs": [],
   "source": [
    "class NgramSpellingCorrector:\n",
    "    def __init__(self, unigram_counts: Counter, get_n_gram: callable):\n",
    "        #unigram_counts is a dictionary that maps a word to its count in the corpus\n",
    "        self.unigram_counts = unigram_counts\n",
    "        #ngram_index is a dictionary that maps an ngram to a set of words that contain it\n",
    "        self.ngram_index = {}\n",
    "        #get_n_grams is a function that returns the ngrams of a word\n",
    "        self.get_n_grams = get_n_gram\n",
    "    \n",
    "    def build_index(self) -> None:\n",
    "        '''\n",
    "        this function builds an index of ngrams to words that contain them\n",
    "        the structure of the index is a dictionary of ngrams to sets of words\n",
    "        '''\n",
    "        ### YOUR CODE HERE\n",
    "        for word in self.unigram_counts.keys():  \n",
    "            for bigram in self.get_n_grams(word):\n",
    "                if bigram not in self.ngram_index:\n",
    "                    self.ngram_index[bigram] = set()\n",
    "                self.ngram_index[bigram].add(word)\n",
    "        ### END YOUR CODE\n",
    "        \n",
    "    def get_top_k_words(self,word:str,k=5) -> List[str]:\n",
    "        '''\n",
    "        this function returns the k most probable candidate words for a given out of vocabulary word\n",
    "\n",
    "        Parameters\n",
    "        ----------\n",
    "        word : str\n",
    "            the out of vocabulary word\n",
    "        k : int, optional\n",
    "            the number of candidates to return, by default 5\n",
    "        \n",
    "        Returns\n",
    "        -------\n",
    "        List[str]\n",
    "            a list of the k most probable candidate words\n",
    "        '''\n",
    "        ### YOUR CODE HERE\n",
    "        wrong_word_bigrams = get_bigrams_not_gen(word)\n",
    "        replace_cand_words = {}\n",
    "        for bi in wrong_word_bigrams:\n",
    "            cand_words = self.ngram_index[bi]\n",
    "            for cw in cand_words:\n",
    "                if cw not in replace_cand_words.keys():\n",
    "                    cand_word_bigrams = get_bigrams_not_gen(cw)\n",
    "                    union_bi = len(set(wrong_word_bigrams).union(set(cand_word_bigrams)))\n",
    "                    intersect_bi = len(set(wrong_word_bigrams).intersection(set(cand_word_bigrams)))\n",
    "                    jack_sim = float(intersect_bi)/float(union_bi)\n",
    "                    replace_cand_words[cw] = jack_sim\n",
    "        sorted_cw = sorted(replace_cand_words, key=replace_cand_words.get,reverse=True)\n",
    "        top_k_can_words = sorted_cw[:k]\n",
    "\n",
    "        return top_k_can_words, replace_cand_words\n",
    "    \n",
    "        ### END YOUR CODE\n",
    "\n",
    "\n",
    "class BigramSpellingCorrector(NgramSpellingCorrector):\n",
    "    def __init__(self, unigram_counts: Counter):\n",
    "        super().__init__(unigram_counts, get_bigrams)"
   ]
  },
  {
   "attachments": {},
   "cell_type": "markdown",
   "metadata": {},
   "source": [
    "Code Understanding Question:\n",
    "\n",
    "In the \"get top k words\" function, does each candidate word have repeat ones or there is a channce that the same word will be iterated more than once? Explain your answer.\n",
    "\n",
    "Answer here:\n",
    "\n",
    "According to our algorithm, the incorrect word is decomposed into bigrams, and the candidate words for replacement are words with a certain bigram. Hence the same word can be candidated more than once, each time thanks to a different bigram.\n",
    "For example, for the incorrect word \"acress\", the word \"cress\" can be candidated 4 time (thanks to 'cr' 're' 'es' 'ss').\n",
    "But, calculating the jaccared score happens only once for each candidate word (we have a relevant condition in our algorithm). Therefore replace_cand_words will only include unique candidate words, and also the \"top k words\" list."
   ]
  },
  {
   "cell_type": "code",
   "execution_count": 15,
   "metadata": {},
   "outputs": [],
   "source": [
    "out_of_vocab_word = 'acress'\n",
    "bigram_spelling_corrector = BigramSpellingCorrector(tf_idf.unigram_count)\n",
    "bigram_spelling_corrector.build_index()\n",
    "candidate_words, scores = bigram_spelling_corrector.get_top_k_words(out_of_vocab_word)"
   ]
  },
  {
   "cell_type": "code",
   "execution_count": 16,
   "metadata": {},
   "outputs": [
    {
     "data": {
      "text/plain": [
       "['cress', 'recress', 'ress', 'actress', 'cresson']"
      ]
     },
     "execution_count": 16,
     "metadata": {},
     "output_type": "execute_result"
    }
   ],
   "source": [
    "candidate_words"
   ]
  },
  {
   "cell_type": "code",
   "execution_count": 17,
   "metadata": {},
   "outputs": [
    {
     "name": "stdout",
     "output_type": "stream",
     "text": [
      "The jaccared score for the word cress is 0.8\n",
      "The jaccared score for the word recress is 0.67\n",
      "The jaccared score for the word ress is 0.6\n",
      "The jaccared score for the word actress is 0.57\n",
      "The jaccared score for the word cresson is 0.57\n"
     ]
    }
   ],
   "source": [
    "for word in candidate_words:\n",
    "    print(f'The jaccared score for the word {word} is {round(scores[word],2)}')"
   ]
  },
  {
   "attachments": {},
   "cell_type": "markdown",
   "metadata": {},
   "source": [
    "# The End - You did it!"
   ]
  },
  {
   "cell_type": "code",
   "execution_count": 18,
   "metadata": {},
   "outputs": [
    {
     "name": "stdout",
     "output_type": "stream",
     "text": [
      "The time it took to run the entire code is: 8.125320970003182 minuts\n"
     ]
    }
   ],
   "source": [
    "#The time it took to run the entire code\n",
    "toc = time.perf_counter()\n",
    "print(f\"The time it took to run the entire code is: {(toc - tic)/60} minuts\")"
   ]
  }
 ],
 "metadata": {
  "kernelspec": {
   "display_name": "Python 3.9.7 64-bit",
   "language": "python",
   "name": "python3"
  },
  "language_info": {
   "codemirror_mode": {
    "name": "ipython",
    "version": 3
   },
   "file_extension": ".py",
   "mimetype": "text/x-python",
   "name": "python",
   "nbconvert_exporter": "python",
   "pygments_lexer": "ipython3",
   "version": "3.10.11"
  },
  "vscode": {
   "interpreter": {
    "hash": "0162daef2ac4f91d71dc659d7366b1318efa6dce3a9605ecac659f5b282e8a3d"
   }
  }
 },
 "nbformat": 4,
 "nbformat_minor": 4
}
